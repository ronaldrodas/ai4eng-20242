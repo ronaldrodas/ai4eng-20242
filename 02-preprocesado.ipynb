{
  "cells": [
    {
      "cell_type": "markdown",
      "source": [
        "# Descargando la data de Kaggle"
      ],
      "metadata": {
        "id": "irDlFMo38n_I"
      }
    },
    {
      "cell_type": "code",
      "execution_count": 2,
      "metadata": {
        "colab": {
          "base_uri": "https://localhost:8080/"
        },
        "id": "VPU22NrWOvUM",
        "outputId": "a2b0d0de-d63d-44cb-c64e-ad8376d633c1"
      },
      "outputs": [
        {
          "output_type": "stream",
          "name": "stdout",
          "text": [
            "--2024-10-14 01:26:58--  https://raw.githubusercontent.com/ronaldrodas/ai4eng-20242/main/kaggle.json\n",
            "Resolving raw.githubusercontent.com (raw.githubusercontent.com)... 185.199.108.133, 185.199.110.133, 185.199.109.133, ...\n",
            "Connecting to raw.githubusercontent.com (raw.githubusercontent.com)|185.199.108.133|:443... connected.\n",
            "HTTP request sent, awaiting response... 200 OK\n",
            "Length: 67 [text/plain]\n",
            "Saving to: ‘kaggle.json’\n",
            "\n",
            "kaggle.json         100%[===================>]      67  --.-KB/s    in 0s      \n",
            "\n",
            "2024-10-14 01:26:58 (947 KB/s) - ‘kaggle.json’ saved [67/67]\n",
            "\n",
            "Downloading udea-ai4eng-20242.zip to /content\n",
            " 25% 5.00M/20.1M [00:00<00:00, 30.3MB/s]\n",
            "100% 20.1M/20.1M [00:00<00:00, 78.5MB/s]\n"
          ]
        }
      ],
      "source": [
        "import os\n",
        "!wget https://raw.githubusercontent.com/ronaldrodas/ai4eng-20242/main/kaggle.json\n",
        "os.environ['KAGGLE_CONFIG_DIR'] = '.'\n",
        "!chmod 600 ./kaggle.json\n",
        "!kaggle competitions download -c udea-ai4eng-20242"
      ]
    },
    {
      "cell_type": "markdown",
      "source": [
        "# Unzip and inspect data"
      ],
      "metadata": {
        "id": "KVB4AZ2n859r"
      }
    },
    {
      "cell_type": "code",
      "execution_count": 3,
      "metadata": {
        "id": "oWxiaUHySFdV"
      },
      "outputs": [],
      "source": [
        "!unzip udea*.zip > /dev/null"
      ]
    },
    {
      "cell_type": "code",
      "execution_count": null,
      "metadata": {
        "id": "Pu48fi4LSn6r",
        "colab": {
          "base_uri": "https://localhost:8080/"
        },
        "outputId": "0a87dfdb-38dc-483d-c552-77a20671762f"
      },
      "outputs": [
        {
          "output_type": "stream",
          "name": "stdout",
          "text": [
            "   692501  10666231 118025055 train.csv\n"
          ]
        }
      ],
      "source": [
        "!wc train.csv"
      ]
    },
    {
      "cell_type": "markdown",
      "source": [
        "# Cargar datos de entrenamiento con panda\n"
      ],
      "metadata": {
        "id": "hN9plVUR8aMP"
      }
    },
    {
      "cell_type": "code",
      "execution_count": 4,
      "metadata": {
        "colab": {
          "base_uri": "https://localhost:8080/"
        },
        "id": "4X5PrM9sSvXU",
        "outputId": "a8e7e0d0-713e-4d5d-ccc4-905d6120431e"
      },
      "outputs": [
        {
          "output_type": "stream",
          "name": "stdout",
          "text": [
            "shape of loaded dataframe (692500, 12)\n"
          ]
        }
      ],
      "source": [
        "import pandas as pd\n",
        "import numpy as np\n",
        "\n",
        "df = pd.read_csv(\"train.csv\")\n",
        "print (\"shape of loaded dataframe\", df.shape)"
      ]
    },
    {
      "cell_type": "markdown",
      "source": [
        "copia el DataFrame df en una nueva variable z, y luego muestra información básica sobre el número de filas, columnas y tipos de datos que contiene."
      ],
      "metadata": {
        "id": "xgF25E_WlZrg"
      }
    },
    {
      "cell_type": "code",
      "source": [
        "z = df.copy()\n",
        "z.info()"
      ],
      "metadata": {
        "colab": {
          "base_uri": "https://localhost:8080/"
        },
        "id": "3AlP7w4GmPCc",
        "outputId": "cc3902e4-5fc8-4314-c3ec-cccf2fb7a7eb"
      },
      "execution_count": 5,
      "outputs": [
        {
          "output_type": "stream",
          "name": "stdout",
          "text": [
            "<class 'pandas.core.frame.DataFrame'>\n",
            "RangeIndex: 692500 entries, 0 to 692499\n",
            "Data columns (total 12 columns):\n",
            " #   Column                          Non-Null Count   Dtype \n",
            "---  ------                          --------------   ----- \n",
            " 0   ID                              692500 non-null  int64 \n",
            " 1   PERIODO                         692500 non-null  int64 \n",
            " 2   ESTU_PRGM_ACADEMICO             692500 non-null  object\n",
            " 3   ESTU_PRGM_DEPARTAMENTO          692500 non-null  object\n",
            " 4   ESTU_VALORMATRICULAUNIVERSIDAD  686213 non-null  object\n",
            " 5   ESTU_HORASSEMANATRABAJA         661643 non-null  object\n",
            " 6   FAMI_ESTRATOVIVIENDA            660363 non-null  object\n",
            " 7   FAMI_TIENEINTERNET              665871 non-null  object\n",
            " 8   FAMI_EDUCACIONPADRE             669322 non-null  object\n",
            " 9   FAMI_EDUCACIONMADRE             668836 non-null  object\n",
            " 10  ESTU_PAGOMATRICULAPROPIO        686002 non-null  object\n",
            " 11  RENDIMIENTO_GLOBAL              692500 non-null  object\n",
            "dtypes: int64(2), object(10)\n",
            "memory usage: 63.4+ MB\n"
          ]
        }
      ]
    },
    {
      "cell_type": "markdown",
      "source": [
        "muestra las primeras 5 filas del DataFrame z. Esto te permite ver una vista previa rápida de los primeros registros de los datos."
      ],
      "metadata": {
        "id": "QDUoJtLBl1Mt"
      }
    },
    {
      "cell_type": "code",
      "execution_count": null,
      "metadata": {
        "colab": {
          "base_uri": "https://localhost:8080/",
          "height": 313
        },
        "id": "3PaKXsMxTO2Z",
        "outputId": "63ef1aad-e08a-4e93-92b5-6b6044a10209",
        "collapsed": true
      },
      "outputs": [
        {
          "output_type": "execute_result",
          "data": {
            "text/plain": [
              "       ID  PERIODO         ESTU_PRGM_ACADEMICO ESTU_PRGM_DEPARTAMENTO  \\\n",
              "0  904256    20212                  ENFERMERIA                 BOGOTÁ   \n",
              "1  645256    20212                     DERECHO              ATLANTICO   \n",
              "2  308367    20203       MERCADEO Y PUBLICIDAD                 BOGOTÁ   \n",
              "3  470353    20195  ADMINISTRACION DE EMPRESAS              SANTANDER   \n",
              "4  989032    20212                  PSICOLOGIA              ANTIOQUIA   \n",
              "\n",
              "             ESTU_VALORMATRICULAUNIVERSIDAD ESTU_HORASSEMANATRABAJA  \\\n",
              "0  Entre 5.5 millones y menos de 7 millones       Menos de 10 horas   \n",
              "1  Entre 2.5 millones y menos de 4 millones                       0   \n",
              "2  Entre 2.5 millones y menos de 4 millones         Más de 30 horas   \n",
              "3  Entre 4 millones y menos de 5.5 millones                       0   \n",
              "4  Entre 2.5 millones y menos de 4 millones     Entre 21 y 30 horas   \n",
              "\n",
              "  FAMI_ESTRATOVIVIENDA FAMI_TIENEINTERNET                 FAMI_EDUCACIONPADRE  \\\n",
              "0            Estrato 3                 Si    Técnica o tecnológica incompleta   \n",
              "1            Estrato 3                 No      Técnica o tecnológica completa   \n",
              "2            Estrato 3                 Si  Secundaria (Bachillerato) completa   \n",
              "3            Estrato 4                 Si                             No sabe   \n",
              "4            Estrato 3                 Si                   Primaria completa   \n",
              "\n",
              "                  FAMI_EDUCACIONMADRE ESTU_PAGOMATRICULAPROPIO  \\\n",
              "0                           Postgrado                       No   \n",
              "1    Técnica o tecnológica incompleta                       No   \n",
              "2  Secundaria (Bachillerato) completa                       No   \n",
              "3  Secundaria (Bachillerato) completa                       No   \n",
              "4                   Primaria completa                       No   \n",
              "\n",
              "  RENDIMIENTO_GLOBAL  \n",
              "0         medio-alto  \n",
              "1               bajo  \n",
              "2               bajo  \n",
              "3               alto  \n",
              "4         medio-bajo  "
            ],
            "text/html": [
              "\n",
              "  <div id=\"df-9a57b438-02ad-4e0f-8e16-916c6fb7461b\" class=\"colab-df-container\">\n",
              "    <div>\n",
              "<style scoped>\n",
              "    .dataframe tbody tr th:only-of-type {\n",
              "        vertical-align: middle;\n",
              "    }\n",
              "\n",
              "    .dataframe tbody tr th {\n",
              "        vertical-align: top;\n",
              "    }\n",
              "\n",
              "    .dataframe thead th {\n",
              "        text-align: right;\n",
              "    }\n",
              "</style>\n",
              "<table border=\"1\" class=\"dataframe\">\n",
              "  <thead>\n",
              "    <tr style=\"text-align: right;\">\n",
              "      <th></th>\n",
              "      <th>ID</th>\n",
              "      <th>PERIODO</th>\n",
              "      <th>ESTU_PRGM_ACADEMICO</th>\n",
              "      <th>ESTU_PRGM_DEPARTAMENTO</th>\n",
              "      <th>ESTU_VALORMATRICULAUNIVERSIDAD</th>\n",
              "      <th>ESTU_HORASSEMANATRABAJA</th>\n",
              "      <th>FAMI_ESTRATOVIVIENDA</th>\n",
              "      <th>FAMI_TIENEINTERNET</th>\n",
              "      <th>FAMI_EDUCACIONPADRE</th>\n",
              "      <th>FAMI_EDUCACIONMADRE</th>\n",
              "      <th>ESTU_PAGOMATRICULAPROPIO</th>\n",
              "      <th>RENDIMIENTO_GLOBAL</th>\n",
              "    </tr>\n",
              "  </thead>\n",
              "  <tbody>\n",
              "    <tr>\n",
              "      <th>0</th>\n",
              "      <td>904256</td>\n",
              "      <td>20212</td>\n",
              "      <td>ENFERMERIA</td>\n",
              "      <td>BOGOTÁ</td>\n",
              "      <td>Entre 5.5 millones y menos de 7 millones</td>\n",
              "      <td>Menos de 10 horas</td>\n",
              "      <td>Estrato 3</td>\n",
              "      <td>Si</td>\n",
              "      <td>Técnica o tecnológica incompleta</td>\n",
              "      <td>Postgrado</td>\n",
              "      <td>No</td>\n",
              "      <td>medio-alto</td>\n",
              "    </tr>\n",
              "    <tr>\n",
              "      <th>1</th>\n",
              "      <td>645256</td>\n",
              "      <td>20212</td>\n",
              "      <td>DERECHO</td>\n",
              "      <td>ATLANTICO</td>\n",
              "      <td>Entre 2.5 millones y menos de 4 millones</td>\n",
              "      <td>0</td>\n",
              "      <td>Estrato 3</td>\n",
              "      <td>No</td>\n",
              "      <td>Técnica o tecnológica completa</td>\n",
              "      <td>Técnica o tecnológica incompleta</td>\n",
              "      <td>No</td>\n",
              "      <td>bajo</td>\n",
              "    </tr>\n",
              "    <tr>\n",
              "      <th>2</th>\n",
              "      <td>308367</td>\n",
              "      <td>20203</td>\n",
              "      <td>MERCADEO Y PUBLICIDAD</td>\n",
              "      <td>BOGOTÁ</td>\n",
              "      <td>Entre 2.5 millones y menos de 4 millones</td>\n",
              "      <td>Más de 30 horas</td>\n",
              "      <td>Estrato 3</td>\n",
              "      <td>Si</td>\n",
              "      <td>Secundaria (Bachillerato) completa</td>\n",
              "      <td>Secundaria (Bachillerato) completa</td>\n",
              "      <td>No</td>\n",
              "      <td>bajo</td>\n",
              "    </tr>\n",
              "    <tr>\n",
              "      <th>3</th>\n",
              "      <td>470353</td>\n",
              "      <td>20195</td>\n",
              "      <td>ADMINISTRACION DE EMPRESAS</td>\n",
              "      <td>SANTANDER</td>\n",
              "      <td>Entre 4 millones y menos de 5.5 millones</td>\n",
              "      <td>0</td>\n",
              "      <td>Estrato 4</td>\n",
              "      <td>Si</td>\n",
              "      <td>No sabe</td>\n",
              "      <td>Secundaria (Bachillerato) completa</td>\n",
              "      <td>No</td>\n",
              "      <td>alto</td>\n",
              "    </tr>\n",
              "    <tr>\n",
              "      <th>4</th>\n",
              "      <td>989032</td>\n",
              "      <td>20212</td>\n",
              "      <td>PSICOLOGIA</td>\n",
              "      <td>ANTIOQUIA</td>\n",
              "      <td>Entre 2.5 millones y menos de 4 millones</td>\n",
              "      <td>Entre 21 y 30 horas</td>\n",
              "      <td>Estrato 3</td>\n",
              "      <td>Si</td>\n",
              "      <td>Primaria completa</td>\n",
              "      <td>Primaria completa</td>\n",
              "      <td>No</td>\n",
              "      <td>medio-bajo</td>\n",
              "    </tr>\n",
              "  </tbody>\n",
              "</table>\n",
              "</div>\n",
              "    <div class=\"colab-df-buttons\">\n",
              "\n",
              "  <div class=\"colab-df-container\">\n",
              "    <button class=\"colab-df-convert\" onclick=\"convertToInteractive('df-9a57b438-02ad-4e0f-8e16-916c6fb7461b')\"\n",
              "            title=\"Convert this dataframe to an interactive table.\"\n",
              "            style=\"display:none;\">\n",
              "\n",
              "  <svg xmlns=\"http://www.w3.org/2000/svg\" height=\"24px\" viewBox=\"0 -960 960 960\">\n",
              "    <path d=\"M120-120v-720h720v720H120Zm60-500h600v-160H180v160Zm220 220h160v-160H400v160Zm0 220h160v-160H400v160ZM180-400h160v-160H180v160Zm440 0h160v-160H620v160ZM180-180h160v-160H180v160Zm440 0h160v-160H620v160Z\"/>\n",
              "  </svg>\n",
              "    </button>\n",
              "\n",
              "  <style>\n",
              "    .colab-df-container {\n",
              "      display:flex;\n",
              "      gap: 12px;\n",
              "    }\n",
              "\n",
              "    .colab-df-convert {\n",
              "      background-color: #E8F0FE;\n",
              "      border: none;\n",
              "      border-radius: 50%;\n",
              "      cursor: pointer;\n",
              "      display: none;\n",
              "      fill: #1967D2;\n",
              "      height: 32px;\n",
              "      padding: 0 0 0 0;\n",
              "      width: 32px;\n",
              "    }\n",
              "\n",
              "    .colab-df-convert:hover {\n",
              "      background-color: #E2EBFA;\n",
              "      box-shadow: 0px 1px 2px rgba(60, 64, 67, 0.3), 0px 1px 3px 1px rgba(60, 64, 67, 0.15);\n",
              "      fill: #174EA6;\n",
              "    }\n",
              "\n",
              "    .colab-df-buttons div {\n",
              "      margin-bottom: 4px;\n",
              "    }\n",
              "\n",
              "    [theme=dark] .colab-df-convert {\n",
              "      background-color: #3B4455;\n",
              "      fill: #D2E3FC;\n",
              "    }\n",
              "\n",
              "    [theme=dark] .colab-df-convert:hover {\n",
              "      background-color: #434B5C;\n",
              "      box-shadow: 0px 1px 3px 1px rgba(0, 0, 0, 0.15);\n",
              "      filter: drop-shadow(0px 1px 2px rgba(0, 0, 0, 0.3));\n",
              "      fill: #FFFFFF;\n",
              "    }\n",
              "  </style>\n",
              "\n",
              "    <script>\n",
              "      const buttonEl =\n",
              "        document.querySelector('#df-9a57b438-02ad-4e0f-8e16-916c6fb7461b button.colab-df-convert');\n",
              "      buttonEl.style.display =\n",
              "        google.colab.kernel.accessAllowed ? 'block' : 'none';\n",
              "\n",
              "      async function convertToInteractive(key) {\n",
              "        const element = document.querySelector('#df-9a57b438-02ad-4e0f-8e16-916c6fb7461b');\n",
              "        const dataTable =\n",
              "          await google.colab.kernel.invokeFunction('convertToInteractive',\n",
              "                                                    [key], {});\n",
              "        if (!dataTable) return;\n",
              "\n",
              "        const docLinkHtml = 'Like what you see? Visit the ' +\n",
              "          '<a target=\"_blank\" href=https://colab.research.google.com/notebooks/data_table.ipynb>data table notebook</a>'\n",
              "          + ' to learn more about interactive tables.';\n",
              "        element.innerHTML = '';\n",
              "        dataTable['output_type'] = 'display_data';\n",
              "        await google.colab.output.renderOutput(dataTable, element);\n",
              "        const docLink = document.createElement('div');\n",
              "        docLink.innerHTML = docLinkHtml;\n",
              "        element.appendChild(docLink);\n",
              "      }\n",
              "    </script>\n",
              "  </div>\n",
              "\n",
              "\n",
              "<div id=\"df-5a7afe5f-8ce9-41f1-8813-14f94e5cea24\">\n",
              "  <button class=\"colab-df-quickchart\" onclick=\"quickchart('df-5a7afe5f-8ce9-41f1-8813-14f94e5cea24')\"\n",
              "            title=\"Suggest charts\"\n",
              "            style=\"display:none;\">\n",
              "\n",
              "<svg xmlns=\"http://www.w3.org/2000/svg\" height=\"24px\"viewBox=\"0 0 24 24\"\n",
              "     width=\"24px\">\n",
              "    <g>\n",
              "        <path d=\"M19 3H5c-1.1 0-2 .9-2 2v14c0 1.1.9 2 2 2h14c1.1 0 2-.9 2-2V5c0-1.1-.9-2-2-2zM9 17H7v-7h2v7zm4 0h-2V7h2v10zm4 0h-2v-4h2v4z\"/>\n",
              "    </g>\n",
              "</svg>\n",
              "  </button>\n",
              "\n",
              "<style>\n",
              "  .colab-df-quickchart {\n",
              "      --bg-color: #E8F0FE;\n",
              "      --fill-color: #1967D2;\n",
              "      --hover-bg-color: #E2EBFA;\n",
              "      --hover-fill-color: #174EA6;\n",
              "      --disabled-fill-color: #AAA;\n",
              "      --disabled-bg-color: #DDD;\n",
              "  }\n",
              "\n",
              "  [theme=dark] .colab-df-quickchart {\n",
              "      --bg-color: #3B4455;\n",
              "      --fill-color: #D2E3FC;\n",
              "      --hover-bg-color: #434B5C;\n",
              "      --hover-fill-color: #FFFFFF;\n",
              "      --disabled-bg-color: #3B4455;\n",
              "      --disabled-fill-color: #666;\n",
              "  }\n",
              "\n",
              "  .colab-df-quickchart {\n",
              "    background-color: var(--bg-color);\n",
              "    border: none;\n",
              "    border-radius: 50%;\n",
              "    cursor: pointer;\n",
              "    display: none;\n",
              "    fill: var(--fill-color);\n",
              "    height: 32px;\n",
              "    padding: 0;\n",
              "    width: 32px;\n",
              "  }\n",
              "\n",
              "  .colab-df-quickchart:hover {\n",
              "    background-color: var(--hover-bg-color);\n",
              "    box-shadow: 0 1px 2px rgba(60, 64, 67, 0.3), 0 1px 3px 1px rgba(60, 64, 67, 0.15);\n",
              "    fill: var(--button-hover-fill-color);\n",
              "  }\n",
              "\n",
              "  .colab-df-quickchart-complete:disabled,\n",
              "  .colab-df-quickchart-complete:disabled:hover {\n",
              "    background-color: var(--disabled-bg-color);\n",
              "    fill: var(--disabled-fill-color);\n",
              "    box-shadow: none;\n",
              "  }\n",
              "\n",
              "  .colab-df-spinner {\n",
              "    border: 2px solid var(--fill-color);\n",
              "    border-color: transparent;\n",
              "    border-bottom-color: var(--fill-color);\n",
              "    animation:\n",
              "      spin 1s steps(1) infinite;\n",
              "  }\n",
              "\n",
              "  @keyframes spin {\n",
              "    0% {\n",
              "      border-color: transparent;\n",
              "      border-bottom-color: var(--fill-color);\n",
              "      border-left-color: var(--fill-color);\n",
              "    }\n",
              "    20% {\n",
              "      border-color: transparent;\n",
              "      border-left-color: var(--fill-color);\n",
              "      border-top-color: var(--fill-color);\n",
              "    }\n",
              "    30% {\n",
              "      border-color: transparent;\n",
              "      border-left-color: var(--fill-color);\n",
              "      border-top-color: var(--fill-color);\n",
              "      border-right-color: var(--fill-color);\n",
              "    }\n",
              "    40% {\n",
              "      border-color: transparent;\n",
              "      border-right-color: var(--fill-color);\n",
              "      border-top-color: var(--fill-color);\n",
              "    }\n",
              "    60% {\n",
              "      border-color: transparent;\n",
              "      border-right-color: var(--fill-color);\n",
              "    }\n",
              "    80% {\n",
              "      border-color: transparent;\n",
              "      border-right-color: var(--fill-color);\n",
              "      border-bottom-color: var(--fill-color);\n",
              "    }\n",
              "    90% {\n",
              "      border-color: transparent;\n",
              "      border-bottom-color: var(--fill-color);\n",
              "    }\n",
              "  }\n",
              "</style>\n",
              "\n",
              "  <script>\n",
              "    async function quickchart(key) {\n",
              "      const quickchartButtonEl =\n",
              "        document.querySelector('#' + key + ' button');\n",
              "      quickchartButtonEl.disabled = true;  // To prevent multiple clicks.\n",
              "      quickchartButtonEl.classList.add('colab-df-spinner');\n",
              "      try {\n",
              "        const charts = await google.colab.kernel.invokeFunction(\n",
              "            'suggestCharts', [key], {});\n",
              "      } catch (error) {\n",
              "        console.error('Error during call to suggestCharts:', error);\n",
              "      }\n",
              "      quickchartButtonEl.classList.remove('colab-df-spinner');\n",
              "      quickchartButtonEl.classList.add('colab-df-quickchart-complete');\n",
              "    }\n",
              "    (() => {\n",
              "      let quickchartButtonEl =\n",
              "        document.querySelector('#df-5a7afe5f-8ce9-41f1-8813-14f94e5cea24 button');\n",
              "      quickchartButtonEl.style.display =\n",
              "        google.colab.kernel.accessAllowed ? 'block' : 'none';\n",
              "    })();\n",
              "  </script>\n",
              "</div>\n",
              "\n",
              "    </div>\n",
              "  </div>\n"
            ],
            "application/vnd.google.colaboratory.intrinsic+json": {
              "type": "dataframe",
              "variable_name": "z"
            }
          },
          "metadata": {},
          "execution_count": 149
        }
      ],
      "source": [
        "z.head()"
      ]
    },
    {
      "cell_type": "markdown",
      "source": [
        "cuenta cuántos valores faltantes hay en cada columna del DataFrame z"
      ],
      "metadata": {
        "id": "ngCLoWWsmDI8"
      }
    },
    {
      "cell_type": "code",
      "source": [
        "z.isnull().sum()"
      ],
      "metadata": {
        "colab": {
          "base_uri": "https://localhost:8080/",
          "height": 460
        },
        "id": "z5C1WFVA1GqJ",
        "outputId": "3ad94ba4-51d8-4dce-bebe-9d858e572916"
      },
      "execution_count": null,
      "outputs": [
        {
          "output_type": "execute_result",
          "data": {
            "text/plain": [
              "ID                                    0\n",
              "PERIODO                               0\n",
              "ESTU_PRGM_ACADEMICO                   0\n",
              "ESTU_PRGM_DEPARTAMENTO                0\n",
              "ESTU_VALORMATRICULAUNIVERSIDAD     6287\n",
              "ESTU_HORASSEMANATRABAJA           30857\n",
              "FAMI_ESTRATOVIVIENDA              32137\n",
              "FAMI_TIENEINTERNET                26629\n",
              "FAMI_EDUCACIONPADRE               23178\n",
              "FAMI_EDUCACIONMADRE               23664\n",
              "ESTU_PAGOMATRICULAPROPIO           6498\n",
              "RENDIMIENTO_GLOBAL                    0\n",
              "dtype: int64"
            ],
            "text/html": [
              "<div>\n",
              "<style scoped>\n",
              "    .dataframe tbody tr th:only-of-type {\n",
              "        vertical-align: middle;\n",
              "    }\n",
              "\n",
              "    .dataframe tbody tr th {\n",
              "        vertical-align: top;\n",
              "    }\n",
              "\n",
              "    .dataframe thead th {\n",
              "        text-align: right;\n",
              "    }\n",
              "</style>\n",
              "<table border=\"1\" class=\"dataframe\">\n",
              "  <thead>\n",
              "    <tr style=\"text-align: right;\">\n",
              "      <th></th>\n",
              "      <th>0</th>\n",
              "    </tr>\n",
              "  </thead>\n",
              "  <tbody>\n",
              "    <tr>\n",
              "      <th>ID</th>\n",
              "      <td>0</td>\n",
              "    </tr>\n",
              "    <tr>\n",
              "      <th>PERIODO</th>\n",
              "      <td>0</td>\n",
              "    </tr>\n",
              "    <tr>\n",
              "      <th>ESTU_PRGM_ACADEMICO</th>\n",
              "      <td>0</td>\n",
              "    </tr>\n",
              "    <tr>\n",
              "      <th>ESTU_PRGM_DEPARTAMENTO</th>\n",
              "      <td>0</td>\n",
              "    </tr>\n",
              "    <tr>\n",
              "      <th>ESTU_VALORMATRICULAUNIVERSIDAD</th>\n",
              "      <td>6287</td>\n",
              "    </tr>\n",
              "    <tr>\n",
              "      <th>ESTU_HORASSEMANATRABAJA</th>\n",
              "      <td>30857</td>\n",
              "    </tr>\n",
              "    <tr>\n",
              "      <th>FAMI_ESTRATOVIVIENDA</th>\n",
              "      <td>32137</td>\n",
              "    </tr>\n",
              "    <tr>\n",
              "      <th>FAMI_TIENEINTERNET</th>\n",
              "      <td>26629</td>\n",
              "    </tr>\n",
              "    <tr>\n",
              "      <th>FAMI_EDUCACIONPADRE</th>\n",
              "      <td>23178</td>\n",
              "    </tr>\n",
              "    <tr>\n",
              "      <th>FAMI_EDUCACIONMADRE</th>\n",
              "      <td>23664</td>\n",
              "    </tr>\n",
              "    <tr>\n",
              "      <th>ESTU_PAGOMATRICULAPROPIO</th>\n",
              "      <td>6498</td>\n",
              "    </tr>\n",
              "    <tr>\n",
              "      <th>RENDIMIENTO_GLOBAL</th>\n",
              "      <td>0</td>\n",
              "    </tr>\n",
              "  </tbody>\n",
              "</table>\n",
              "</div><br><label><b>dtype:</b> int64</label>"
            ]
          },
          "metadata": {},
          "execution_count": 150
        }
      ]
    },
    {
      "cell_type": "markdown",
      "source": [
        "# ID"
      ],
      "metadata": {
        "id": "AmyJOR1-2eDs"
      }
    },
    {
      "cell_type": "markdown",
      "source": [
        "Verificar si hay valores duplicados en la columna ID"
      ],
      "metadata": {
        "id": "Mc3AeP2xmJth"
      }
    },
    {
      "cell_type": "code",
      "source": [
        "if z['ID'].duplicated().any():\n",
        "    print(\"Hay valores duplicados en la columna ID.\")\n",
        "else:\n",
        "    print(\"No hay valores duplicados en la columna ID.\")"
      ],
      "metadata": {
        "colab": {
          "base_uri": "https://localhost:8080/"
        },
        "id": "preFXu8KnsEK",
        "outputId": "4f418362-2a8e-423d-ac9c-6f5805dd1eb5"
      },
      "execution_count": null,
      "outputs": [
        {
          "output_type": "stream",
          "name": "stdout",
          "text": [
            "No hay valores duplicados en la columna ID.\n"
          ]
        }
      ]
    },
    {
      "cell_type": "markdown",
      "source": [
        "El código z.set_index('ID', inplace=True) establece la columna 'ID' como el índice del DataFrame z, y inplace=True hace que el cambio sea permanente en z; luego, z.head() muestra las primeras 5 filas del DataFrame con el nuevo índice."
      ],
      "metadata": {
        "id": "yXve-9RimlJU"
      }
    },
    {
      "cell_type": "code",
      "source": [
        "z.set_index('ID', inplace=True)\n",
        "z.head()"
      ],
      "metadata": {
        "colab": {
          "base_uri": "https://localhost:8080/",
          "height": 344
        },
        "id": "dSHWLDjxi54P",
        "outputId": "6027c9c4-9829-4f42-c33a-8e455850884e"
      },
      "execution_count": null,
      "outputs": [
        {
          "output_type": "execute_result",
          "data": {
            "text/plain": [
              "        PERIODO         ESTU_PRGM_ACADEMICO ESTU_PRGM_DEPARTAMENTO  \\\n",
              "ID                                                                   \n",
              "904256    20212                  ENFERMERIA                 BOGOTÁ   \n",
              "645256    20212                     DERECHO              ATLANTICO   \n",
              "308367    20203       MERCADEO Y PUBLICIDAD                 BOGOTÁ   \n",
              "470353    20195  ADMINISTRACION DE EMPRESAS              SANTANDER   \n",
              "989032    20212                  PSICOLOGIA              ANTIOQUIA   \n",
              "\n",
              "                  ESTU_VALORMATRICULAUNIVERSIDAD ESTU_HORASSEMANATRABAJA  \\\n",
              "ID                                                                         \n",
              "904256  Entre 5.5 millones y menos de 7 millones       Menos de 10 horas   \n",
              "645256  Entre 2.5 millones y menos de 4 millones                       0   \n",
              "308367  Entre 2.5 millones y menos de 4 millones         Más de 30 horas   \n",
              "470353  Entre 4 millones y menos de 5.5 millones                       0   \n",
              "989032  Entre 2.5 millones y menos de 4 millones     Entre 21 y 30 horas   \n",
              "\n",
              "       FAMI_ESTRATOVIVIENDA FAMI_TIENEINTERNET  \\\n",
              "ID                                               \n",
              "904256            Estrato 3                 Si   \n",
              "645256            Estrato 3                 No   \n",
              "308367            Estrato 3                 Si   \n",
              "470353            Estrato 4                 Si   \n",
              "989032            Estrato 3                 Si   \n",
              "\n",
              "                       FAMI_EDUCACIONPADRE  \\\n",
              "ID                                           \n",
              "904256    Técnica o tecnológica incompleta   \n",
              "645256      Técnica o tecnológica completa   \n",
              "308367  Secundaria (Bachillerato) completa   \n",
              "470353                             No sabe   \n",
              "989032                   Primaria completa   \n",
              "\n",
              "                       FAMI_EDUCACIONMADRE ESTU_PAGOMATRICULAPROPIO  \\\n",
              "ID                                                                    \n",
              "904256                           Postgrado                       No   \n",
              "645256    Técnica o tecnológica incompleta                       No   \n",
              "308367  Secundaria (Bachillerato) completa                       No   \n",
              "470353  Secundaria (Bachillerato) completa                       No   \n",
              "989032                   Primaria completa                       No   \n",
              "\n",
              "       RENDIMIENTO_GLOBAL  \n",
              "ID                         \n",
              "904256         medio-alto  \n",
              "645256               bajo  \n",
              "308367               bajo  \n",
              "470353               alto  \n",
              "989032         medio-bajo  "
            ],
            "text/html": [
              "\n",
              "  <div id=\"df-882349f8-6a8f-4532-ad80-4526a05ad371\" class=\"colab-df-container\">\n",
              "    <div>\n",
              "<style scoped>\n",
              "    .dataframe tbody tr th:only-of-type {\n",
              "        vertical-align: middle;\n",
              "    }\n",
              "\n",
              "    .dataframe tbody tr th {\n",
              "        vertical-align: top;\n",
              "    }\n",
              "\n",
              "    .dataframe thead th {\n",
              "        text-align: right;\n",
              "    }\n",
              "</style>\n",
              "<table border=\"1\" class=\"dataframe\">\n",
              "  <thead>\n",
              "    <tr style=\"text-align: right;\">\n",
              "      <th></th>\n",
              "      <th>PERIODO</th>\n",
              "      <th>ESTU_PRGM_ACADEMICO</th>\n",
              "      <th>ESTU_PRGM_DEPARTAMENTO</th>\n",
              "      <th>ESTU_VALORMATRICULAUNIVERSIDAD</th>\n",
              "      <th>ESTU_HORASSEMANATRABAJA</th>\n",
              "      <th>FAMI_ESTRATOVIVIENDA</th>\n",
              "      <th>FAMI_TIENEINTERNET</th>\n",
              "      <th>FAMI_EDUCACIONPADRE</th>\n",
              "      <th>FAMI_EDUCACIONMADRE</th>\n",
              "      <th>ESTU_PAGOMATRICULAPROPIO</th>\n",
              "      <th>RENDIMIENTO_GLOBAL</th>\n",
              "    </tr>\n",
              "    <tr>\n",
              "      <th>ID</th>\n",
              "      <th></th>\n",
              "      <th></th>\n",
              "      <th></th>\n",
              "      <th></th>\n",
              "      <th></th>\n",
              "      <th></th>\n",
              "      <th></th>\n",
              "      <th></th>\n",
              "      <th></th>\n",
              "      <th></th>\n",
              "      <th></th>\n",
              "    </tr>\n",
              "  </thead>\n",
              "  <tbody>\n",
              "    <tr>\n",
              "      <th>904256</th>\n",
              "      <td>20212</td>\n",
              "      <td>ENFERMERIA</td>\n",
              "      <td>BOGOTÁ</td>\n",
              "      <td>Entre 5.5 millones y menos de 7 millones</td>\n",
              "      <td>Menos de 10 horas</td>\n",
              "      <td>Estrato 3</td>\n",
              "      <td>Si</td>\n",
              "      <td>Técnica o tecnológica incompleta</td>\n",
              "      <td>Postgrado</td>\n",
              "      <td>No</td>\n",
              "      <td>medio-alto</td>\n",
              "    </tr>\n",
              "    <tr>\n",
              "      <th>645256</th>\n",
              "      <td>20212</td>\n",
              "      <td>DERECHO</td>\n",
              "      <td>ATLANTICO</td>\n",
              "      <td>Entre 2.5 millones y menos de 4 millones</td>\n",
              "      <td>0</td>\n",
              "      <td>Estrato 3</td>\n",
              "      <td>No</td>\n",
              "      <td>Técnica o tecnológica completa</td>\n",
              "      <td>Técnica o tecnológica incompleta</td>\n",
              "      <td>No</td>\n",
              "      <td>bajo</td>\n",
              "    </tr>\n",
              "    <tr>\n",
              "      <th>308367</th>\n",
              "      <td>20203</td>\n",
              "      <td>MERCADEO Y PUBLICIDAD</td>\n",
              "      <td>BOGOTÁ</td>\n",
              "      <td>Entre 2.5 millones y menos de 4 millones</td>\n",
              "      <td>Más de 30 horas</td>\n",
              "      <td>Estrato 3</td>\n",
              "      <td>Si</td>\n",
              "      <td>Secundaria (Bachillerato) completa</td>\n",
              "      <td>Secundaria (Bachillerato) completa</td>\n",
              "      <td>No</td>\n",
              "      <td>bajo</td>\n",
              "    </tr>\n",
              "    <tr>\n",
              "      <th>470353</th>\n",
              "      <td>20195</td>\n",
              "      <td>ADMINISTRACION DE EMPRESAS</td>\n",
              "      <td>SANTANDER</td>\n",
              "      <td>Entre 4 millones y menos de 5.5 millones</td>\n",
              "      <td>0</td>\n",
              "      <td>Estrato 4</td>\n",
              "      <td>Si</td>\n",
              "      <td>No sabe</td>\n",
              "      <td>Secundaria (Bachillerato) completa</td>\n",
              "      <td>No</td>\n",
              "      <td>alto</td>\n",
              "    </tr>\n",
              "    <tr>\n",
              "      <th>989032</th>\n",
              "      <td>20212</td>\n",
              "      <td>PSICOLOGIA</td>\n",
              "      <td>ANTIOQUIA</td>\n",
              "      <td>Entre 2.5 millones y menos de 4 millones</td>\n",
              "      <td>Entre 21 y 30 horas</td>\n",
              "      <td>Estrato 3</td>\n",
              "      <td>Si</td>\n",
              "      <td>Primaria completa</td>\n",
              "      <td>Primaria completa</td>\n",
              "      <td>No</td>\n",
              "      <td>medio-bajo</td>\n",
              "    </tr>\n",
              "  </tbody>\n",
              "</table>\n",
              "</div>\n",
              "    <div class=\"colab-df-buttons\">\n",
              "\n",
              "  <div class=\"colab-df-container\">\n",
              "    <button class=\"colab-df-convert\" onclick=\"convertToInteractive('df-882349f8-6a8f-4532-ad80-4526a05ad371')\"\n",
              "            title=\"Convert this dataframe to an interactive table.\"\n",
              "            style=\"display:none;\">\n",
              "\n",
              "  <svg xmlns=\"http://www.w3.org/2000/svg\" height=\"24px\" viewBox=\"0 -960 960 960\">\n",
              "    <path d=\"M120-120v-720h720v720H120Zm60-500h600v-160H180v160Zm220 220h160v-160H400v160Zm0 220h160v-160H400v160ZM180-400h160v-160H180v160Zm440 0h160v-160H620v160ZM180-180h160v-160H180v160Zm440 0h160v-160H620v160Z\"/>\n",
              "  </svg>\n",
              "    </button>\n",
              "\n",
              "  <style>\n",
              "    .colab-df-container {\n",
              "      display:flex;\n",
              "      gap: 12px;\n",
              "    }\n",
              "\n",
              "    .colab-df-convert {\n",
              "      background-color: #E8F0FE;\n",
              "      border: none;\n",
              "      border-radius: 50%;\n",
              "      cursor: pointer;\n",
              "      display: none;\n",
              "      fill: #1967D2;\n",
              "      height: 32px;\n",
              "      padding: 0 0 0 0;\n",
              "      width: 32px;\n",
              "    }\n",
              "\n",
              "    .colab-df-convert:hover {\n",
              "      background-color: #E2EBFA;\n",
              "      box-shadow: 0px 1px 2px rgba(60, 64, 67, 0.3), 0px 1px 3px 1px rgba(60, 64, 67, 0.15);\n",
              "      fill: #174EA6;\n",
              "    }\n",
              "\n",
              "    .colab-df-buttons div {\n",
              "      margin-bottom: 4px;\n",
              "    }\n",
              "\n",
              "    [theme=dark] .colab-df-convert {\n",
              "      background-color: #3B4455;\n",
              "      fill: #D2E3FC;\n",
              "    }\n",
              "\n",
              "    [theme=dark] .colab-df-convert:hover {\n",
              "      background-color: #434B5C;\n",
              "      box-shadow: 0px 1px 3px 1px rgba(0, 0, 0, 0.15);\n",
              "      filter: drop-shadow(0px 1px 2px rgba(0, 0, 0, 0.3));\n",
              "      fill: #FFFFFF;\n",
              "    }\n",
              "  </style>\n",
              "\n",
              "    <script>\n",
              "      const buttonEl =\n",
              "        document.querySelector('#df-882349f8-6a8f-4532-ad80-4526a05ad371 button.colab-df-convert');\n",
              "      buttonEl.style.display =\n",
              "        google.colab.kernel.accessAllowed ? 'block' : 'none';\n",
              "\n",
              "      async function convertToInteractive(key) {\n",
              "        const element = document.querySelector('#df-882349f8-6a8f-4532-ad80-4526a05ad371');\n",
              "        const dataTable =\n",
              "          await google.colab.kernel.invokeFunction('convertToInteractive',\n",
              "                                                    [key], {});\n",
              "        if (!dataTable) return;\n",
              "\n",
              "        const docLinkHtml = 'Like what you see? Visit the ' +\n",
              "          '<a target=\"_blank\" href=https://colab.research.google.com/notebooks/data_table.ipynb>data table notebook</a>'\n",
              "          + ' to learn more about interactive tables.';\n",
              "        element.innerHTML = '';\n",
              "        dataTable['output_type'] = 'display_data';\n",
              "        await google.colab.output.renderOutput(dataTable, element);\n",
              "        const docLink = document.createElement('div');\n",
              "        docLink.innerHTML = docLinkHtml;\n",
              "        element.appendChild(docLink);\n",
              "      }\n",
              "    </script>\n",
              "  </div>\n",
              "\n",
              "\n",
              "<div id=\"df-3362c23d-b5af-44df-a04f-fff54faebb03\">\n",
              "  <button class=\"colab-df-quickchart\" onclick=\"quickchart('df-3362c23d-b5af-44df-a04f-fff54faebb03')\"\n",
              "            title=\"Suggest charts\"\n",
              "            style=\"display:none;\">\n",
              "\n",
              "<svg xmlns=\"http://www.w3.org/2000/svg\" height=\"24px\"viewBox=\"0 0 24 24\"\n",
              "     width=\"24px\">\n",
              "    <g>\n",
              "        <path d=\"M19 3H5c-1.1 0-2 .9-2 2v14c0 1.1.9 2 2 2h14c1.1 0 2-.9 2-2V5c0-1.1-.9-2-2-2zM9 17H7v-7h2v7zm4 0h-2V7h2v10zm4 0h-2v-4h2v4z\"/>\n",
              "    </g>\n",
              "</svg>\n",
              "  </button>\n",
              "\n",
              "<style>\n",
              "  .colab-df-quickchart {\n",
              "      --bg-color: #E8F0FE;\n",
              "      --fill-color: #1967D2;\n",
              "      --hover-bg-color: #E2EBFA;\n",
              "      --hover-fill-color: #174EA6;\n",
              "      --disabled-fill-color: #AAA;\n",
              "      --disabled-bg-color: #DDD;\n",
              "  }\n",
              "\n",
              "  [theme=dark] .colab-df-quickchart {\n",
              "      --bg-color: #3B4455;\n",
              "      --fill-color: #D2E3FC;\n",
              "      --hover-bg-color: #434B5C;\n",
              "      --hover-fill-color: #FFFFFF;\n",
              "      --disabled-bg-color: #3B4455;\n",
              "      --disabled-fill-color: #666;\n",
              "  }\n",
              "\n",
              "  .colab-df-quickchart {\n",
              "    background-color: var(--bg-color);\n",
              "    border: none;\n",
              "    border-radius: 50%;\n",
              "    cursor: pointer;\n",
              "    display: none;\n",
              "    fill: var(--fill-color);\n",
              "    height: 32px;\n",
              "    padding: 0;\n",
              "    width: 32px;\n",
              "  }\n",
              "\n",
              "  .colab-df-quickchart:hover {\n",
              "    background-color: var(--hover-bg-color);\n",
              "    box-shadow: 0 1px 2px rgba(60, 64, 67, 0.3), 0 1px 3px 1px rgba(60, 64, 67, 0.15);\n",
              "    fill: var(--button-hover-fill-color);\n",
              "  }\n",
              "\n",
              "  .colab-df-quickchart-complete:disabled,\n",
              "  .colab-df-quickchart-complete:disabled:hover {\n",
              "    background-color: var(--disabled-bg-color);\n",
              "    fill: var(--disabled-fill-color);\n",
              "    box-shadow: none;\n",
              "  }\n",
              "\n",
              "  .colab-df-spinner {\n",
              "    border: 2px solid var(--fill-color);\n",
              "    border-color: transparent;\n",
              "    border-bottom-color: var(--fill-color);\n",
              "    animation:\n",
              "      spin 1s steps(1) infinite;\n",
              "  }\n",
              "\n",
              "  @keyframes spin {\n",
              "    0% {\n",
              "      border-color: transparent;\n",
              "      border-bottom-color: var(--fill-color);\n",
              "      border-left-color: var(--fill-color);\n",
              "    }\n",
              "    20% {\n",
              "      border-color: transparent;\n",
              "      border-left-color: var(--fill-color);\n",
              "      border-top-color: var(--fill-color);\n",
              "    }\n",
              "    30% {\n",
              "      border-color: transparent;\n",
              "      border-left-color: var(--fill-color);\n",
              "      border-top-color: var(--fill-color);\n",
              "      border-right-color: var(--fill-color);\n",
              "    }\n",
              "    40% {\n",
              "      border-color: transparent;\n",
              "      border-right-color: var(--fill-color);\n",
              "      border-top-color: var(--fill-color);\n",
              "    }\n",
              "    60% {\n",
              "      border-color: transparent;\n",
              "      border-right-color: var(--fill-color);\n",
              "    }\n",
              "    80% {\n",
              "      border-color: transparent;\n",
              "      border-right-color: var(--fill-color);\n",
              "      border-bottom-color: var(--fill-color);\n",
              "    }\n",
              "    90% {\n",
              "      border-color: transparent;\n",
              "      border-bottom-color: var(--fill-color);\n",
              "    }\n",
              "  }\n",
              "</style>\n",
              "\n",
              "  <script>\n",
              "    async function quickchart(key) {\n",
              "      const quickchartButtonEl =\n",
              "        document.querySelector('#' + key + ' button');\n",
              "      quickchartButtonEl.disabled = true;  // To prevent multiple clicks.\n",
              "      quickchartButtonEl.classList.add('colab-df-spinner');\n",
              "      try {\n",
              "        const charts = await google.colab.kernel.invokeFunction(\n",
              "            'suggestCharts', [key], {});\n",
              "      } catch (error) {\n",
              "        console.error('Error during call to suggestCharts:', error);\n",
              "      }\n",
              "      quickchartButtonEl.classList.remove('colab-df-spinner');\n",
              "      quickchartButtonEl.classList.add('colab-df-quickchart-complete');\n",
              "    }\n",
              "    (() => {\n",
              "      let quickchartButtonEl =\n",
              "        document.querySelector('#df-3362c23d-b5af-44df-a04f-fff54faebb03 button');\n",
              "      quickchartButtonEl.style.display =\n",
              "        google.colab.kernel.accessAllowed ? 'block' : 'none';\n",
              "    })();\n",
              "  </script>\n",
              "</div>\n",
              "\n",
              "    </div>\n",
              "  </div>\n"
            ],
            "application/vnd.google.colaboratory.intrinsic+json": {
              "type": "dataframe",
              "variable_name": "z"
            }
          },
          "metadata": {},
          "execution_count": 152
        }
      ]
    },
    {
      "cell_type": "markdown",
      "source": [
        "imprime las nuevas dimensiones del DataFrame z"
      ],
      "metadata": {
        "id": "3OghaxEum0-1"
      }
    },
    {
      "cell_type": "code",
      "source": [
        "print (\"shape of loaded dataframe\", z.shape)"
      ],
      "metadata": {
        "colab": {
          "base_uri": "https://localhost:8080/"
        },
        "id": "A0J0__RrkEUp",
        "outputId": "24db6afc-3431-4f92-d36e-5b55515191aa"
      },
      "execution_count": null,
      "outputs": [
        {
          "output_type": "stream",
          "name": "stdout",
          "text": [
            "shape of loaded dataframe (692500, 11)\n"
          ]
        }
      ]
    },
    {
      "cell_type": "markdown",
      "source": [
        "# PERIODO"
      ],
      "metadata": {
        "id": "PCj2S6n63ZpQ"
      }
    },
    {
      "cell_type": "markdown",
      "source": [
        "devuelve un arreglo con todos los valores únicos que existen en la columna 'PERIODO' del DataFrame z, es decir, muestra cada valor sin repetir."
      ],
      "metadata": {
        "id": "lN_Cg0SGnEGT"
      }
    },
    {
      "cell_type": "code",
      "source": [
        "z['PERIODO'].unique()"
      ],
      "metadata": {
        "colab": {
          "base_uri": "https://localhost:8080/"
        },
        "id": "GxGDfcJ4So5t",
        "outputId": "e5fc114c-28cc-44bd-c9e7-15b992297eb0"
      },
      "execution_count": null,
      "outputs": [
        {
          "output_type": "execute_result",
          "data": {
            "text/plain": [
              "array([20212, 20203, 20195, 20183, 20194, 20213, 20184, 20202, 20196])"
            ]
          },
          "metadata": {},
          "execution_count": 154
        }
      ]
    },
    {
      "cell_type": "code",
      "source": [
        "z.PERIODO.value_counts().plot(kind='bar')"
      ],
      "metadata": {
        "colab": {
          "base_uri": "https://localhost:8080/",
          "height": 497
        },
        "id": "MTfoNkVR9zlf",
        "outputId": "c1079860-e8f4-4d2c-fdb1-bfc879046bf1"
      },
      "execution_count": null,
      "outputs": [
        {
          "output_type": "execute_result",
          "data": {
            "text/plain": [
              "<Axes: xlabel='PERIODO'>"
            ]
          },
          "metadata": {},
          "execution_count": 140
        },
        {
          "output_type": "display_data",
          "data": {
            "text/plain": [
              "<Figure size 640x480 with 1 Axes>"
            ],
            "image/png": "[encoded data removed]"
          },
          "metadata": {}
        }
      ]
    },
    {
      "cell_type": "markdown",
      "source": [
        "#  ESTU_PRGM_ACADEMICO"
      ],
      "metadata": {
        "id": "My3rJitP3wmV"
      }
    },
    {
      "cell_type": "markdown",
      "source": [
        "muestra la cantidad de ocurrencias de cada valor en la columna 'ESTU_PRGM_ACADEMICO' del DataFrame z, indicando cuántas veces aparece cada programa académico."
      ],
      "metadata": {
        "id": "wWzgdfZAnRn1"
      }
    },
    {
      "cell_type": "code",
      "source": [
        "print(z['ESTU_PRGM_ACADEMICO'].value_counts())"
      ],
      "metadata": {
        "colab": {
          "base_uri": "https://localhost:8080/"
        },
        "id": "zPsewQIiIQjs",
        "outputId": "298d9789-7733-4621-e0bc-001e1dee25a7"
      },
      "execution_count": null,
      "outputs": [
        {
          "output_type": "stream",
          "name": "stdout",
          "text": [
            "ESTU_PRGM_ACADEMICO\n",
            "DERECHO                                                   53244\n",
            "ADMINISTRACION DE EMPRESAS                                51902\n",
            "CONTADURIA PUBLICA                                        39664\n",
            "PSICOLOGIA                                                31932\n",
            "INGENIERIA INDUSTRIAL                                     28481\n",
            "                                                          ...  \n",
            "LICENCIATURA EN ESPAÑOL Y FILOLOGÍA                           1\n",
            "ADMINISTRACION EN NEGOCIOS INTERNACIONALES                    1\n",
            "ADMINISTRACION DE COMERCIO EXTERIOR                           1\n",
            "LICENCIATURA EN EDUCACI¿N F¿SICA RECREACI¿N Y DEPORTES        1\n",
            "PROFESIONAL EN INVESTIGACIÓN CRIMINAL                         1\n",
            "Name: count, Length: 948, dtype: int64\n"
          ]
        }
      ]
    },
    {
      "cell_type": "markdown",
      "source": [
        "Este código realiza una serie de transformaciones en la columna ESTU_PRGM_ACADEMICO del DataFrame z para limpiar y agrupar los programas académicos:"
      ],
      "metadata": {
        "id": "QfBkbStOnlM9"
      }
    },
    {
      "cell_type": "code",
      "source": [
        "!pip install unidecode\n",
        "from unidecode import unidecode\n",
        "import re\n",
        "\n",
        "# Convertir la columna ESTU_PRGM_ACADEMICO a mayúsculas y eliminar tildes y espacios innecesarios\n",
        "z['ESTU_PRGM_ACADEMICO'] = z['ESTU_PRGM_ACADEMICO'].str.upper()  # Todo mayúsculas\n",
        "z['ESTU_PRGM_ACADEMICO'] = z['ESTU_PRGM_ACADEMICO'].apply(lambda x: unidecode(x).strip())  # Eliminar tildes\n",
        "z['ESTU_PRGM_ACADEMICO'] = z['ESTU_PRGM_ACADEMICO'].apply(lambda x: re.sub(r'\\s+', ' ', x).strip())  # Eliminar dobles espacios\n",
        "z['ESTU_PRGM_ACADEMICO'] = z['ESTU_PRGM_ACADEMICO'].apply(lambda x: re.sub(r'^PROFESIONAL EN\\s+', '', x).strip())  # \"PROFESIONAL EN ...\" redundante\n",
        "\n",
        "# Corrección de errores comunes y caracteres especiales\n",
        "z['ESTU_PRGM_ACADEMICO'] = z['ESTU_PRGM_ACADEMICO'].replace(r'DISE\\?\\?O', 'DISEÑO', regex=True)\n",
        "z['ESTU_PRGM_ACADEMICO'] = z['ESTU_PRGM_ACADEMICO'].replace(r'INGENIIERIA', 'INGENIERIA', regex=True)\n",
        "z['ESTU_PRGM_ACADEMICO'] = z['ESTU_PRGM_ACADEMICO'].replace(r'ADMINSITRACION', 'ADMINISTRACION', regex=True)\n",
        "z['ESTU_PRGM_ACADEMICO'] = z['ESTU_PRGM_ACADEMICO'].replace(r'QU\\?MICA', 'QUIMICA', regex=True)\n",
        "z['ESTU_PRGM_ACADEMICO'] = z['ESTU_PRGM_ACADEMICO'].replace(r'COMUNICACI\\?N', 'COMUNICACION', regex=True)\n",
        "z['ESTU_PRGM_ACADEMICO'] = z['ESTU_PRGM_ACADEMICO'].replace(r'.*GASTRONOM.*', 'GASTRONOMIA', regex=True)\n",
        "\n",
        "# Correcciones específicas de las palabras con caracteres mal codificados\n",
        "z['ESTU_PRGM_ACADEMICO'] = z['ESTU_PRGM_ACADEMICO'].replace(r'INGENIER\\?A', 'INGENIERIA', regex=True)\n",
        "z['ESTU_PRGM_ACADEMICO'] = z['ESTU_PRGM_ACADEMICO'].replace(r'ADMINISTRACI\\?N', 'ADMINISTRACION', regex=True)\n",
        "z['ESTU_PRGM_ACADEMICO'] = z['ESTU_PRGM_ACADEMICO'].replace(r'GEOLOG\\?A', 'GEOLOGIA', regex=True)\n",
        "z['ESTU_PRGM_ACADEMICO'] = z['ESTU_PRGM_ACADEMICO'].replace(r'ECONOM\\?A', 'ECONOMIA', regex=True)\n",
        "z['ESTU_PRGM_ACADEMICO'] = z['ESTU_PRGM_ACADEMICO'].replace(r'ADMINISTRACI\\?N P\\?BLICA', 'ADMINISTRACION PUBLICA', regex=True)\n",
        "z['ESTU_PRGM_ACADEMICO'] = z['ESTU_PRGM_ACADEMICO'].replace(r'INGENIER\\?A EL\\?CTRICA', 'INGENIERIA ELECTRICA', regex=True)\n",
        "\n",
        "# Agrupaciones más amplias de carreras afines, con un enfoque agresivo en la agrupación de \"Diseño\" y otras categorías\n",
        "grouping = {\n",
        "    r'.*MEDICINA.*|.*ENFERMERIA.*|.*FARMACIA.*|.*SALUD.*|.*TERAPIA.*|.*OPTOMETRIA.*|.*ZOOTECNIA.*|.*BACTERIOLOGIA.*': 'CIENCIAS DE LA SALUD',\n",
        "    r'.*SOCIOLOGIA.*|.*PSICOLOGIA.*|.*HUMANIDADES.*|.*HISTORIA.*|.*FILOSOFIA.*|.*FILOLOGIA.*|.*LITERATURA.*|.*CIENCIAS SOCIALES.*|.*CIENCIA POLITICA.*|.*CIENCIAS RELIGIOSAS.*|.*ANTROPOLOGIA.*': 'CIENCIAS SOCIALES',\n",
        "    r'.*INGENIERIA.*|.*ELECTRONICA.*|.*INFORMATICA.*|.*SISTEMAS.*|.*TECNOLOGIA.*|.*INGENIERIA DE SOFTWARE.*|.*INGENIERIA INDUSTRIAL.*|.*INGENIERIA ELECTRICA.*': 'INGENIERIA Y TECNOLOGIA',\n",
        "    r'.*EDUCACION.*|.*PEDAGOGIA.*|.*LICENCIATURA.*': 'EDUCACION',\n",
        "    r'.*ADMINISTRACION.*|.*NEGOCIOS.*|.*CONTADURIA.*|.*FINANZAS.*|.*MERCAD.*|.*GOBIERNO.*|.*COMERCIO.*|.*ADMINISTRACION PUBLICA.*': 'ADMINISTRACION Y NEGOCIOS',\n",
        "    r'.*ARTES.*|.*MUSICA.*|.*DANZA.*|.*TEATRO.*|.*COMUNICACION.*|.*PUBLICIDAD.*|.*CINE.*': 'ARTES Y COMUNICACION',\n",
        "    r'.*MATEMATICAS.*|.*FISICA.*|.*QUIMICA.*|.*BIOLOGIA.*|.*CIENCIAS EXACTAS.*|.*CIENCIAS NATURALES.*|.*ECOLOGIA.*|.*GEOLOGIA.*': 'CIENCIAS EXACTAS Y NATURALES',\n",
        "    r'.*DERECHO.*|.*JURISPRUDENCIA.*': 'DERECHO',\n",
        "    r'.*DEPORT.*|.*RECREACION.*|.*EDUCACION FISICA.*|.*DEPORTES.*|.*ADMINISTRACION DEPORTIVA.*': 'DEPORTES Y RECREACION',\n",
        "    r'.*AGRONOMIA.*|.*VETERINARIA.*|.*ZOO.*|.*ACUICULTURA.*|.*AGROINDUSTRIA.*': 'AGRONOMIA Y VETERINARIA',\n",
        "    r'.*ARQUITECTURA.*|.*CONSTRUCCION.*|.*URBANISMO.*': 'ARQUITECTURA Y CONSTRUCCION',\n",
        "    r'.*IDIOMAS.*|.*LENGUAS.*|.*TRADUCCION.*|.*BILINGUISMO.*': 'IDIOMAS Y LENGUAS EXTRANJERAS',\n",
        "    r'.*ESTADISTICA.*|.*CIENCIAS POLITICAS.*|.*LENGUA CASTELLANA.*|.*PLANEACION.*|.*GESTION.*': 'OTROS CAMPOS',\n",
        "    r'.*DISENO.*|.*DISEÑO.*|.*MODA.*|.*CROSSMEDIA.*|.*DIGITAL.*|.*INTERACTIVO.*|.*INDUSTRIAL.*|.*VESTUARIO.*|.*MULTIMEDIA.*': 'DISEÑO'\n",
        "}\n",
        "\n",
        "# Aplicar las agrupaciones usando regex\n",
        "for pattern, replacement in grouping.items():\n",
        "    z['ESTU_PRGM_ACADEMICO'] = z['ESTU_PRGM_ACADEMICO'].replace(pattern, replacement, regex=True)\n",
        "\n",
        "# Mostrar los resultados simplificados\n",
        "print(z['ESTU_PRGM_ACADEMICO'].value_counts())"
      ],
      "metadata": {
        "colab": {
          "base_uri": "https://localhost:8080/"
        },
        "id": "A_6ZyQtSurfO",
        "outputId": "52575963-b1ed-4635-e3a5-9959f306d565"
      },
      "execution_count": 6,
      "outputs": [
        {
          "output_type": "stream",
          "name": "stdout",
          "text": [
            "Collecting unidecode\n",
            "  Downloading Unidecode-1.3.8-py3-none-any.whl.metadata (13 kB)\n",
            "Downloading Unidecode-1.3.8-py3-none-any.whl (235 kB)\n",
            "\u001b[2K   \u001b[90m━━━━━━━━━━━━━━━━━━━━━━━━━━━━━━━━━━━━━━━━\u001b[0m \u001b[32m235.5/235.5 kB\u001b[0m \u001b[31m4.4 MB/s\u001b[0m eta \u001b[36m0:00:00\u001b[0m\n",
            "\u001b[?25hInstalling collected packages: unidecode\n",
            "Successfully installed unidecode-1.3.8\n",
            "ESTU_PRGM_ACADEMICO\n",
            "ADMINISTRACION Y NEGOCIOS     188554\n",
            "INGENIERIA Y TECNOLOGIA       149710\n",
            "CIENCIAS DE LA SALUD           70507\n",
            "CIENCIAS SOCIALES              68748\n",
            "DERECHO                        54556\n",
            "                               ...  \n",
            "DIRECCION DE BANDA                10\n",
            "COMPUTACION CIENTIFICA             5\n",
            "OCEANOGRAFIA                       4\n",
            "ANIMACION                          2\n",
            "CIENCIAS DE LA COMPUTACION         1\n",
            "Name: count, Length: 81, dtype: int64\n"
          ]
        }
      ]
    },
    {
      "cell_type": "markdown",
      "source": [
        "Contar la cantidad de ocurrencias de cada valor único en la columna \"ESTU_PRGM_ACADEMICO\""
      ],
      "metadata": {
        "id": "dMi1npVloclN"
      }
    },
    {
      "cell_type": "code",
      "source": [
        "pd.set_option('display.max_rows', None)\n",
        "conteo_programas = z[\"ESTU_PRGM_ACADEMICO\"].value_counts()\n",
        "print(conteo_programas)\n",
        "pd.reset_option('display.max_rows')"
      ],
      "metadata": {
        "colab": {
          "base_uri": "https://localhost:8080/"
        },
        "id": "HJosjMmjZIPr",
        "outputId": "6fa9e22b-d340-4ab3-b813-5721618eb77b",
        "collapsed": true
      },
      "execution_count": 7,
      "outputs": [
        {
          "output_type": "stream",
          "name": "stdout",
          "text": [
            "ESTU_PRGM_ACADEMICO\n",
            "ADMINISTRACION Y NEGOCIOS                                                    188554\n",
            "INGENIERIA Y TECNOLOGIA                                                      149710\n",
            "CIENCIAS DE LA SALUD                                                          70507\n",
            "CIENCIAS SOCIALES                                                             68748\n",
            "DERECHO                                                                       54556\n",
            "EDUCACION                                                                     53960\n",
            "ARTES Y COMUNICACION                                                          24764\n",
            "TRABAJO SOCIAL                                                                13101\n",
            "ARQUITECTURA Y CONSTRUCCION                                                   12079\n",
            "CIENCIAS EXACTAS Y NATURALES                                                  11318\n",
            "DISEÑO                                                                         9539\n",
            "ECONOMIA                                                                       7545\n",
            "ODONTOLOGIA                                                                    5272\n",
            "NUTRICION Y DIETETICA                                                          2276\n",
            "IDIOMAS Y LENGUAS EXTRANJERAS                                                  2228\n",
            "DEPORTES Y RECREACION                                                          2094\n",
            "INSTRUMENTACION QUIRURGICA                                                     1579\n",
            "OTROS CAMPOS                                                                   1547\n",
            "FONOAUDIOLOGIA                                                                 1503\n",
            "AGRONOMIA Y VETERINARIA                                                        1105\n",
            "CIENCIAS MILITARES                                                             1101\n",
            "RELACIONES INTERNACIONALES                                                     1059\n",
            "TEOLOGIA                                                                        747\n",
            "GASTRONOMIA                                                                     720\n",
            "CIENCIAS DE LA INFORMACION Y LA DOCUMENTACION                                   554\n",
            "RELACIONES INTERNACIONALES Y ESTUDIOS POLITICOS                                 467\n",
            "HOTELERIA Y TURISMO                                                             348\n",
            "ESTUDIOS LITERARIOS                                                             325\n",
            "CIENCIAS NAVALES PARA OFICIALES NAVALES                                         322\n",
            "CRIMINALISTICA                                                                  321\n",
            "GEOGRAFIA                                                                       313\n",
            "MEDIOS AUDIOVISUALES                                                            302\n",
            "ARTE DRAMATICO                                                                  229\n",
            "DIRECCION Y PRODUCCION DE MEDIOS AUDIOVISUALES                                  227\n",
            "TURISMO                                                                         222\n",
            "RELACIONES ECONOMICAS INTERNACIONALES                                           191\n",
            "CIENCIAS MILITARES AERONAUTICAS                                                 186\n",
            "INTRUMENTACION QUIRURGICA                                                       171\n",
            "INVESTIGACION CRIMINAL                                                          153\n",
            "DIRECCION Y PRODUCCION DE RADIO Y TELEVISION                                    147\n",
            "PERIODISMO Y OPINION PUBLICA                                                    147\n",
            "DESARROLLO FAMILIAR                                                             132\n",
            "ARTE                                                                            128\n",
            "GEOCIENCIAS                                                                     126\n",
            "CIENCIAS NAVALES PARA OFICIALES DE INFANTERIA DE MARINA                         125\n",
            "CIENCIAS DE LA COMPUTACION E INTELIGENCIA ARTIFICIAL                            119\n",
            "PERIODISMO                                                                      115\n",
            "POLITICA Y RELACIONES INTERNACIONALES                                           114\n",
            "GERONTOLOGIA                                                                    105\n",
            "LINGUISTICA                                                                     104\n",
            "CREACION LITERARIA                                                               98\n",
            "ARCHIVISTICA                                                                     88\n",
            "GEOGRAFIA DEL DESARROLLO REGIONAL Y AMBIENTAL                                    85\n",
            "PSICOLOGA                                                                        73\n",
            "GEOGRAFIA APLICADA A LA ORGANIZACION DEL ESPACIO Y PLANIFICACION REGIONAL        71\n",
            "MATEMATICA APLICADA                                                              68\n",
            "GERENCIA DE LA SEGURIDAD Y ANALISIS SOCIO POLITICO                               57\n",
            "DESARROLLO TERRITORIAL                                                           56\n",
            "LENGUAJES Y ESTUDIOS SOCIOCULTURALES                                             51\n",
            "MARKETING Y LOGISTICA                                                            50\n",
            "ESTUDIOS POLITICOS Y RESOLUCION DE CONFLICTOS                                    46\n",
            "MARKETING INTERNACIONAL                                                          44\n",
            "PROFESIONAL UNIVERSITARIO EN FOTOGRAFIA PARA MEDIOS                              43\n",
            "CIENCIAS NAUTICAS PARA OFICIALES MERCANTES                                       42\n",
            "CIENCIAS AMBIENTALES                                                             40\n",
            "CIENCIAS BIBLICAS                                                                36\n",
            "FOTOGRAFIA                                                                       33\n",
            "INSTRUMENTACION QUIRURGICA PROFESIONAL                                           31\n",
            "REALIZACION EN ANIMACION                                                         30\n",
            "ASTRONOMIA                                                                       29\n",
            "ARQUEOLOGIA                                                                      28\n",
            "LOGISTICA EMPRESARIAL                                                            19\n",
            "ESTUDIOS LITERARIOS Y EDICION                                                    19\n",
            "MARKETING                                                                        13\n",
            "CONSERVACION Y RESTAURACION DE BIENES MUEBLES                                    13\n",
            "HOTELERIA Y TURISMO ECOLOGICO                                                    10\n",
            "DIRECCION DE BANDA                                                               10\n",
            "COMPUTACION CIENTIFICA                                                            5\n",
            "OCEANOGRAFIA                                                                      4\n",
            "ANIMACION                                                                         2\n",
            "CIENCIAS DE LA COMPUTACION                                                        1\n",
            "Name: count, dtype: int64\n"
          ]
        }
      ]
    },
    {
      "cell_type": "code",
      "source": [
        "z.ESTU_PRGM_ACADEMICO.value_counts().plot(kind='bar')"
      ],
      "metadata": {
        "colab": {
          "base_uri": "https://localhost:8080/",
          "height": 1000
        },
        "id": "6IChT3HT997n",
        "outputId": "5cfa8c83-a202-4eed-d978-56215865e96f"
      },
      "execution_count": 8,
      "outputs": [
        {
          "output_type": "execute_result",
          "data": {
            "text/plain": [
              "<Axes: xlabel='ESTU_PRGM_ACADEMICO'>"
            ]
          },
          "metadata": {},
          "execution_count": 8
        },
        {
          "output_type": "display_data",
          "data": {
            "text/plain": [
              "<Figure size 640x480 with 1 Axes>"
            ],
            "image/png": "[encoded data removed]"
          },
          "metadata": {}
        }
      ]
    },
    {
      "cell_type": "markdown",
      "source": [
        "#  ESTU_PRGM_DEPARTAMENTO"
      ],
      "metadata": {
        "id": "Cprtg2VY4BY_"
      }
    },
    {
      "cell_type": "markdown",
      "source": [
        "cuenta cuántas veces aparece cada valor en la columna ESTU_PRGM_DEPARTAMENTO, mostrando la cantidad de registros para cada departamento"
      ],
      "metadata": {
        "id": "nyUBCEJ-ozIY"
      }
    },
    {
      "cell_type": "code",
      "source": [
        "z['ESTU_PRGM_DEPARTAMENTO'].value_counts()"
      ],
      "metadata": {
        "colab": {
          "base_uri": "https://localhost:8080/",
          "height": 1000
        },
        "id": "4VZRXxfsrmYg",
        "outputId": "7cb7422f-b96a-40bb-969e-fac43ed5e9c2"
      },
      "execution_count": null,
      "outputs": [
        {
          "output_type": "execute_result",
          "data": {
            "text/plain": [
              "ESTU_PRGM_DEPARTAMENTO\n",
              "BOGOTÁ             282159\n",
              "ANTIOQUIA           83607\n",
              "VALLE               44588\n",
              "ATLANTICO           41020\n",
              "SANTANDER           28828\n",
              "NORTE SANTANDER     22588\n",
              "BOLIVAR             20629\n",
              "BOYACA              14048\n",
              "CUNDINAMARCA        14018\n",
              "NARIÑO              13454\n",
              "RISARALDA           12679\n",
              "CORDOBA             12188\n",
              "TOLIMA              11921\n",
              "CALDAS              11640\n",
              "CAUCA               11471\n",
              "HUILA                9995\n",
              "MAGDALENA            9512\n",
              "SUCRE                8674\n",
              "CESAR                8279\n",
              "QUINDIO              8229\n",
              "META                 7910\n",
              "LA GUAJIRA           4778\n",
              "CHOCO                4289\n",
              "CAQUETA              2659\n",
              "CASANARE             1852\n",
              "PUTUMAYO              795\n",
              "ARAUCA                589\n",
              "AMAZONAS               40\n",
              "GUAVIARE               37\n",
              "VAUPES                 14\n",
              "SAN ANDRES             10\n",
              "Name: count, dtype: int64"
            ],
            "text/html": [
              "<div>\n",
              "<style scoped>\n",
              "    .dataframe tbody tr th:only-of-type {\n",
              "        vertical-align: middle;\n",
              "    }\n",
              "\n",
              "    .dataframe tbody tr th {\n",
              "        vertical-align: top;\n",
              "    }\n",
              "\n",
              "    .dataframe thead th {\n",
              "        text-align: right;\n",
              "    }\n",
              "</style>\n",
              "<table border=\"1\" class=\"dataframe\">\n",
              "  <thead>\n",
              "    <tr style=\"text-align: right;\">\n",
              "      <th></th>\n",
              "      <th>count</th>\n",
              "    </tr>\n",
              "    <tr>\n",
              "      <th>ESTU_PRGM_DEPARTAMENTO</th>\n",
              "      <th></th>\n",
              "    </tr>\n",
              "  </thead>\n",
              "  <tbody>\n",
              "    <tr>\n",
              "      <th>BOGOTÁ</th>\n",
              "      <td>282159</td>\n",
              "    </tr>\n",
              "    <tr>\n",
              "      <th>ANTIOQUIA</th>\n",
              "      <td>83607</td>\n",
              "    </tr>\n",
              "    <tr>\n",
              "      <th>VALLE</th>\n",
              "      <td>44588</td>\n",
              "    </tr>\n",
              "    <tr>\n",
              "      <th>ATLANTICO</th>\n",
              "      <td>41020</td>\n",
              "    </tr>\n",
              "    <tr>\n",
              "      <th>SANTANDER</th>\n",
              "      <td>28828</td>\n",
              "    </tr>\n",
              "    <tr>\n",
              "      <th>NORTE SANTANDER</th>\n",
              "      <td>22588</td>\n",
              "    </tr>\n",
              "    <tr>\n",
              "      <th>BOLIVAR</th>\n",
              "      <td>20629</td>\n",
              "    </tr>\n",
              "    <tr>\n",
              "      <th>BOYACA</th>\n",
              "      <td>14048</td>\n",
              "    </tr>\n",
              "    <tr>\n",
              "      <th>CUNDINAMARCA</th>\n",
              "      <td>14018</td>\n",
              "    </tr>\n",
              "    <tr>\n",
              "      <th>NARIÑO</th>\n",
              "      <td>13454</td>\n",
              "    </tr>\n",
              "    <tr>\n",
              "      <th>RISARALDA</th>\n",
              "      <td>12679</td>\n",
              "    </tr>\n",
              "    <tr>\n",
              "      <th>CORDOBA</th>\n",
              "      <td>12188</td>\n",
              "    </tr>\n",
              "    <tr>\n",
              "      <th>TOLIMA</th>\n",
              "      <td>11921</td>\n",
              "    </tr>\n",
              "    <tr>\n",
              "      <th>CALDAS</th>\n",
              "      <td>11640</td>\n",
              "    </tr>\n",
              "    <tr>\n",
              "      <th>CAUCA</th>\n",
              "      <td>11471</td>\n",
              "    </tr>\n",
              "    <tr>\n",
              "      <th>HUILA</th>\n",
              "      <td>9995</td>\n",
              "    </tr>\n",
              "    <tr>\n",
              "      <th>MAGDALENA</th>\n",
              "      <td>9512</td>\n",
              "    </tr>\n",
              "    <tr>\n",
              "      <th>SUCRE</th>\n",
              "      <td>8674</td>\n",
              "    </tr>\n",
              "    <tr>\n",
              "      <th>CESAR</th>\n",
              "      <td>8279</td>\n",
              "    </tr>\n",
              "    <tr>\n",
              "      <th>QUINDIO</th>\n",
              "      <td>8229</td>\n",
              "    </tr>\n",
              "    <tr>\n",
              "      <th>META</th>\n",
              "      <td>7910</td>\n",
              "    </tr>\n",
              "    <tr>\n",
              "      <th>LA GUAJIRA</th>\n",
              "      <td>4778</td>\n",
              "    </tr>\n",
              "    <tr>\n",
              "      <th>CHOCO</th>\n",
              "      <td>4289</td>\n",
              "    </tr>\n",
              "    <tr>\n",
              "      <th>CAQUETA</th>\n",
              "      <td>2659</td>\n",
              "    </tr>\n",
              "    <tr>\n",
              "      <th>CASANARE</th>\n",
              "      <td>1852</td>\n",
              "    </tr>\n",
              "    <tr>\n",
              "      <th>PUTUMAYO</th>\n",
              "      <td>795</td>\n",
              "    </tr>\n",
              "    <tr>\n",
              "      <th>ARAUCA</th>\n",
              "      <td>589</td>\n",
              "    </tr>\n",
              "    <tr>\n",
              "      <th>AMAZONAS</th>\n",
              "      <td>40</td>\n",
              "    </tr>\n",
              "    <tr>\n",
              "      <th>GUAVIARE</th>\n",
              "      <td>37</td>\n",
              "    </tr>\n",
              "    <tr>\n",
              "      <th>VAUPES</th>\n",
              "      <td>14</td>\n",
              "    </tr>\n",
              "    <tr>\n",
              "      <th>SAN ANDRES</th>\n",
              "      <td>10</td>\n",
              "    </tr>\n",
              "  </tbody>\n",
              "</table>\n",
              "</div><br><label><b>dtype:</b> int64</label>"
            ]
          },
          "metadata": {},
          "execution_count": 159
        }
      ]
    },
    {
      "cell_type": "code",
      "source": [
        "z.ESTU_PRGM_DEPARTAMENTO.value_counts().plot(kind='bar')"
      ],
      "metadata": {
        "colab": {
          "base_uri": "https://localhost:8080/",
          "height": 589
        },
        "id": "6vNehqIr_SUr",
        "outputId": "c5187d70-d8d6-4063-a863-8b85dc003cdf"
      },
      "execution_count": null,
      "outputs": [
        {
          "output_type": "execute_result",
          "data": {
            "text/plain": [
              "<Axes: xlabel='ESTU_PRGM_DEPARTAMENTO'>"
            ]
          },
          "metadata": {},
          "execution_count": 160
        },
        {
          "output_type": "display_data",
          "data": {
            "text/plain": [
              "<Figure size 640x480 with 1 Axes>"
            ],
            "image/png": "[encoded data removed]"
          },
          "metadata": {}
        }
      ]
    },
    {
      "cell_type": "markdown",
      "source": [
        "# ESTU_VALORMATRICULAUNIVERSIDAD"
      ],
      "metadata": {
        "id": "no1jOAHg5W92"
      }
    },
    {
      "cell_type": "markdown",
      "source": [
        "muestra un arreglo con todos los valores únicos que existen en la columna ESTU_VALORMATRICULAUNIVERSIDAD"
      ],
      "metadata": {
        "id": "-0AZcjN2pQow"
      }
    },
    {
      "cell_type": "code",
      "source": [
        "z['ESTU_VALORMATRICULAUNIVERSIDAD'].unique()"
      ],
      "metadata": {
        "colab": {
          "base_uri": "https://localhost:8080/"
        },
        "collapsed": true,
        "id": "C2MtTDMl1zVZ",
        "outputId": "8a193365-fbde-463c-a864-e34f25185ae5"
      },
      "execution_count": null,
      "outputs": [
        {
          "output_type": "execute_result",
          "data": {
            "text/plain": [
              "array(['Entre 5.5 millones y menos de 7 millones',\n",
              "       'Entre 2.5 millones y menos de 4 millones',\n",
              "       'Entre 4 millones y menos de 5.5 millones', 'Más de 7 millones',\n",
              "       'Entre 1 millón y menos de 2.5 millones',\n",
              "       'Entre 500 mil y menos de 1 millón', 'Menos de 500 mil',\n",
              "       'No pagó matrícula', nan], dtype=object)"
            ]
          },
          "metadata": {},
          "execution_count": 161
        }
      ]
    },
    {
      "cell_type": "markdown",
      "source": [
        "cuenta cuántos valores faltantes (nulos) hay en la columna ESTU_VALORMATRICULAUNIVERSIDAD"
      ],
      "metadata": {
        "id": "jfEIjKYepeec"
      }
    },
    {
      "cell_type": "code",
      "source": [
        "z['ESTU_VALORMATRICULAUNIVERSIDAD'].isna().sum()"
      ],
      "metadata": {
        "colab": {
          "base_uri": "https://localhost:8080/"
        },
        "id": "CTh_tvKxRKDU",
        "outputId": "f3d82653-2a9d-45e3-cd30-05f3fc44cb49"
      },
      "execution_count": null,
      "outputs": [
        {
          "output_type": "execute_result",
          "data": {
            "text/plain": [
              "6287"
            ]
          },
          "metadata": {},
          "execution_count": 162
        }
      ]
    },
    {
      "cell_type": "markdown",
      "source": [
        "reemplaza los valores nulos en la columna ESTU_VALORMATRICULAUNIVERSIDAD del DataFrame z con el texto 'No pagó matrícula'"
      ],
      "metadata": {
        "id": "KAxMC1b-qI61"
      }
    },
    {
      "cell_type": "code",
      "source": [
        "z['ESTU_VALORMATRICULAUNIVERSIDAD'] = z['ESTU_VALORMATRICULAUNIVERSIDAD'].fillna('No pagó matrícula')"
      ],
      "metadata": {
        "id": "WkRCVoDbSDm7"
      },
      "execution_count": null,
      "outputs": []
    },
    {
      "cell_type": "code",
      "source": [
        "z['ESTU_VALORMATRICULAUNIVERSIDAD'].isna().sum()"
      ],
      "metadata": {
        "colab": {
          "base_uri": "https://localhost:8080/"
        },
        "id": "_juTtdfISIRJ",
        "outputId": "8b0a29ca-336e-4777-8b11-2aaf0de43bf2"
      },
      "execution_count": null,
      "outputs": [
        {
          "output_type": "execute_result",
          "data": {
            "text/plain": [
              "0"
            ]
          },
          "metadata": {},
          "execution_count": 168
        }
      ]
    },
    {
      "cell_type": "code",
      "source": [
        "z['ESTU_VALORMATRICULAUNIVERSIDAD'].value_counts()"
      ],
      "metadata": {
        "colab": {
          "base_uri": "https://localhost:8080/",
          "height": 366
        },
        "id": "SdM_jGNvu_iv",
        "outputId": "c35931d4-fd51-4b7e-db25-fcf5767cbddf"
      },
      "execution_count": null,
      "outputs": [
        {
          "output_type": "execute_result",
          "data": {
            "text/plain": [
              "ESTU_VALORMATRICULAUNIVERSIDAD\n",
              "Entre 1 millón y menos de 2.5 millones      204048\n",
              "Entre 2.5 millones y menos de 4 millones    127430\n",
              "Menos de 500 mil                             80263\n",
              "Entre 500 mil y menos de 1 millón            78704\n",
              "Entre 4 millones y menos de 5.5 millones     69736\n",
              "Más de 7 millones                            68014\n",
              "Entre 5.5 millones y menos de 7 millones     38490\n",
              "No pagó matrícula                            25815\n",
              "Name: count, dtype: int64"
            ],
            "text/html": [
              "<div>\n",
              "<style scoped>\n",
              "    .dataframe tbody tr th:only-of-type {\n",
              "        vertical-align: middle;\n",
              "    }\n",
              "\n",
              "    .dataframe tbody tr th {\n",
              "        vertical-align: top;\n",
              "    }\n",
              "\n",
              "    .dataframe thead th {\n",
              "        text-align: right;\n",
              "    }\n",
              "</style>\n",
              "<table border=\"1\" class=\"dataframe\">\n",
              "  <thead>\n",
              "    <tr style=\"text-align: right;\">\n",
              "      <th></th>\n",
              "      <th>count</th>\n",
              "    </tr>\n",
              "    <tr>\n",
              "      <th>ESTU_VALORMATRICULAUNIVERSIDAD</th>\n",
              "      <th></th>\n",
              "    </tr>\n",
              "  </thead>\n",
              "  <tbody>\n",
              "    <tr>\n",
              "      <th>Entre 1 millón y menos de 2.5 millones</th>\n",
              "      <td>204048</td>\n",
              "    </tr>\n",
              "    <tr>\n",
              "      <th>Entre 2.5 millones y menos de 4 millones</th>\n",
              "      <td>127430</td>\n",
              "    </tr>\n",
              "    <tr>\n",
              "      <th>Menos de 500 mil</th>\n",
              "      <td>80263</td>\n",
              "    </tr>\n",
              "    <tr>\n",
              "      <th>Entre 500 mil y menos de 1 millón</th>\n",
              "      <td>78704</td>\n",
              "    </tr>\n",
              "    <tr>\n",
              "      <th>Entre 4 millones y menos de 5.5 millones</th>\n",
              "      <td>69736</td>\n",
              "    </tr>\n",
              "    <tr>\n",
              "      <th>Más de 7 millones</th>\n",
              "      <td>68014</td>\n",
              "    </tr>\n",
              "    <tr>\n",
              "      <th>Entre 5.5 millones y menos de 7 millones</th>\n",
              "      <td>38490</td>\n",
              "    </tr>\n",
              "    <tr>\n",
              "      <th>No pagó matrícula</th>\n",
              "      <td>25815</td>\n",
              "    </tr>\n",
              "  </tbody>\n",
              "</table>\n",
              "</div><br><label><b>dtype:</b> int64</label>"
            ]
          },
          "metadata": {},
          "execution_count": 169
        }
      ]
    },
    {
      "cell_type": "code",
      "source": [
        "z.ESTU_VALORMATRICULAUNIVERSIDAD.value_counts().plot(kind='bar')"
      ],
      "metadata": {
        "colab": {
          "base_uri": "https://localhost:8080/",
          "height": 739
        },
        "id": "6_SpQJ0s_dXE",
        "outputId": "d8260b93-a0ad-4b60-d5ba-0087b3be428f"
      },
      "execution_count": null,
      "outputs": [
        {
          "output_type": "execute_result",
          "data": {
            "text/plain": [
              "<Axes: xlabel='ESTU_VALORMATRICULAUNIVERSIDAD'>"
            ]
          },
          "metadata": {},
          "execution_count": 170
        },
        {
          "output_type": "display_data",
          "data": {
            "text/plain": [
              "<Figure size 640x480 with 1 Axes>"
            ],
            "image/png": "[encoded data removed]"
          },
          "metadata": {}
        }
      ]
    },
    {
      "cell_type": "markdown",
      "source": [
        "# ESTU_HORASSEMANATRABAJA"
      ],
      "metadata": {
        "id": "PReGrpin6TIs"
      }
    },
    {
      "cell_type": "markdown",
      "source": [
        "muestra un arreglo con todos los valores únicos que existen en la columna ESTU_HORASSEMANATRABAJA"
      ],
      "metadata": {
        "id": "zWC5hHj_qi5D"
      }
    },
    {
      "cell_type": "code",
      "source": [
        "z['ESTU_HORASSEMANATRABAJA'].unique()"
      ],
      "metadata": {
        "colab": {
          "base_uri": "https://localhost:8080/"
        },
        "id": "XRu-JXmESyoA",
        "outputId": "f8737795-7218-4b87-b366-85f896f97794"
      },
      "execution_count": null,
      "outputs": [
        {
          "output_type": "execute_result",
          "data": {
            "text/plain": [
              "array(['Menos de 10 horas', '0', 'Más de 30 horas', 'Entre 21 y 30 horas',\n",
              "       'Entre 11 y 20 horas', nan], dtype=object)"
            ]
          },
          "metadata": {},
          "execution_count": 172
        }
      ]
    },
    {
      "cell_type": "markdown",
      "source": [
        "cuenta cuántos valores faltantes (nulos) hay en la columna ESTU_VALORMATRICULAUNIVERSIDAD"
      ],
      "metadata": {
        "id": "_LwbLmOjqxOy"
      }
    },
    {
      "cell_type": "code",
      "source": [
        "z['ESTU_HORASSEMANATRABAJA'].isna().sum()"
      ],
      "metadata": {
        "colab": {
          "base_uri": "https://localhost:8080/"
        },
        "id": "p6t4ZG4zTAb9",
        "outputId": "bec91226-199e-449a-c8e5-b555229c47b0"
      },
      "execution_count": null,
      "outputs": [
        {
          "output_type": "execute_result",
          "data": {
            "text/plain": [
              "30857"
            ]
          },
          "metadata": {},
          "execution_count": 173
        }
      ]
    },
    {
      "cell_type": "markdown",
      "source": [
        " reemplaza los valores nulos en la columna ESTU_HORASSEMANATRABAJA del DataFrame z con el texto '0'"
      ],
      "metadata": {
        "id": "Qvvvuj1mq-5A"
      }
    },
    {
      "cell_type": "code",
      "source": [
        "z['ESTU_HORASSEMANATRABAJA'] = z['ESTU_HORASSEMANATRABAJA'].fillna('0')"
      ],
      "metadata": {
        "id": "Ybft4QMLTXOK"
      },
      "execution_count": null,
      "outputs": []
    },
    {
      "cell_type": "code",
      "source": [
        "z['ESTU_HORASSEMANATRABAJA'].isna().sum()"
      ],
      "metadata": {
        "colab": {
          "base_uri": "https://localhost:8080/"
        },
        "id": "5EbSp3fcocZt",
        "outputId": "d10dd0e2-b16e-40a1-dc28-6591cb0e3e43"
      },
      "execution_count": null,
      "outputs": [
        {
          "output_type": "execute_result",
          "data": {
            "text/plain": [
              "0"
            ]
          },
          "metadata": {},
          "execution_count": 175
        }
      ]
    },
    {
      "cell_type": "code",
      "source": [
        "z['ESTU_HORASSEMANATRABAJA'].value_counts()"
      ],
      "metadata": {
        "colab": {
          "base_uri": "https://localhost:8080/",
          "height": 272
        },
        "id": "2HxL3X-6uzCt",
        "outputId": "56f7726c-1b09-48b5-fcd4-a7f379349987"
      },
      "execution_count": null,
      "outputs": [
        {
          "output_type": "execute_result",
          "data": {
            "text/plain": [
              "ESTU_HORASSEMANATRABAJA\n",
              "Más de 30 horas        249352\n",
              "0                      147407\n",
              "Entre 11 y 20 horas    115857\n",
              "Entre 21 y 30 horas     92693\n",
              "Menos de 10 horas       87191\n",
              "Name: count, dtype: int64"
            ],
            "text/html": [
              "<div>\n",
              "<style scoped>\n",
              "    .dataframe tbody tr th:only-of-type {\n",
              "        vertical-align: middle;\n",
              "    }\n",
              "\n",
              "    .dataframe tbody tr th {\n",
              "        vertical-align: top;\n",
              "    }\n",
              "\n",
              "    .dataframe thead th {\n",
              "        text-align: right;\n",
              "    }\n",
              "</style>\n",
              "<table border=\"1\" class=\"dataframe\">\n",
              "  <thead>\n",
              "    <tr style=\"text-align: right;\">\n",
              "      <th></th>\n",
              "      <th>count</th>\n",
              "    </tr>\n",
              "    <tr>\n",
              "      <th>ESTU_HORASSEMANATRABAJA</th>\n",
              "      <th></th>\n",
              "    </tr>\n",
              "  </thead>\n",
              "  <tbody>\n",
              "    <tr>\n",
              "      <th>Más de 30 horas</th>\n",
              "      <td>249352</td>\n",
              "    </tr>\n",
              "    <tr>\n",
              "      <th>0</th>\n",
              "      <td>147407</td>\n",
              "    </tr>\n",
              "    <tr>\n",
              "      <th>Entre 11 y 20 horas</th>\n",
              "      <td>115857</td>\n",
              "    </tr>\n",
              "    <tr>\n",
              "      <th>Entre 21 y 30 horas</th>\n",
              "      <td>92693</td>\n",
              "    </tr>\n",
              "    <tr>\n",
              "      <th>Menos de 10 horas</th>\n",
              "      <td>87191</td>\n",
              "    </tr>\n",
              "  </tbody>\n",
              "</table>\n",
              "</div><br><label><b>dtype:</b> int64</label>"
            ]
          },
          "metadata": {},
          "execution_count": 176
        }
      ]
    },
    {
      "cell_type": "code",
      "source": [
        "z.ESTU_HORASSEMANATRABAJA.value_counts().plot(kind='bar')"
      ],
      "metadata": {
        "colab": {
          "base_uri": "https://localhost:8080/",
          "height": 589
        },
        "id": "FuwATgQV_vBg",
        "outputId": "922b31ff-e07d-4c37-8699-5e92783ab8f8"
      },
      "execution_count": null,
      "outputs": [
        {
          "output_type": "execute_result",
          "data": {
            "text/plain": [
              "<Axes: xlabel='ESTU_HORASSEMANATRABAJA'>"
            ]
          },
          "metadata": {},
          "execution_count": 177
        },
        {
          "output_type": "display_data",
          "data": {
            "text/plain": [
              "<Figure size 640x480 with 1 Axes>"
            ],
            "image/png": "[encoded data removed]"
          },
          "metadata": {}
        }
      ]
    },
    {
      "cell_type": "markdown",
      "source": [
        "# FAMI_ESTRATOVIVIENDA"
      ],
      "metadata": {
        "id": "RmhZ_4N26lPE"
      }
    },
    {
      "cell_type": "markdown",
      "source": [
        "muestra un arreglo con todos los valores únicos que existen en la columna FAMI_ESTRATOVIVIENDA"
      ],
      "metadata": {
        "id": "EnvfnVDGrluI"
      }
    },
    {
      "cell_type": "code",
      "source": [
        "z['FAMI_ESTRATOVIVIENDA'].unique()"
      ],
      "metadata": {
        "colab": {
          "base_uri": "https://localhost:8080/"
        },
        "id": "tO0814URTrId",
        "outputId": "c105445f-2741-46d6-a67f-4fcea272731c"
      },
      "execution_count": null,
      "outputs": [
        {
          "output_type": "execute_result",
          "data": {
            "text/plain": [
              "array(['Estrato 3', 'Estrato 4', 'Estrato 5', 'Estrato 2', 'Estrato 1',\n",
              "       nan, 'Estrato 6', 'Sin Estrato'], dtype=object)"
            ]
          },
          "metadata": {},
          "execution_count": 178
        }
      ]
    },
    {
      "cell_type": "markdown",
      "source": [
        "cuenta cuántos valores faltantes (nulos) hay en la columna FAMI_ESTRATOVIVIENDA"
      ],
      "metadata": {
        "id": "-Dbj4g6es3Me"
      }
    },
    {
      "cell_type": "code",
      "source": [
        "z['FAMI_ESTRATOVIVIENDA'].isna().sum()"
      ],
      "metadata": {
        "colab": {
          "base_uri": "https://localhost:8080/"
        },
        "id": "k4sl7OPvrv1A",
        "outputId": "71517683-ceb3-4942-edda-e49610b352f5"
      },
      "execution_count": null,
      "outputs": [
        {
          "output_type": "execute_result",
          "data": {
            "text/plain": [
              "32137"
            ]
          },
          "metadata": {},
          "execution_count": 179
        }
      ]
    },
    {
      "cell_type": "markdown",
      "source": [
        "reemplaza los valores nulos en la columna FAMI_ESTRATOVIVIENDA del DataFrame z con el texto 'Sin Estrato'"
      ],
      "metadata": {
        "id": "AIYzw1-Uswd-"
      }
    },
    {
      "cell_type": "code",
      "source": [
        "z['FAMI_ESTRATOVIVIENDA'] = z['FAMI_ESTRATOVIVIENDA'].fillna('Sin Estrato')"
      ],
      "metadata": {
        "id": "LXFBNoZpUJbf"
      },
      "execution_count": null,
      "outputs": []
    },
    {
      "cell_type": "code",
      "source": [
        "z['FAMI_ESTRATOVIVIENDA'].isna().sum()"
      ],
      "metadata": {
        "colab": {
          "base_uri": "https://localhost:8080/"
        },
        "id": "lEuSwxkNsGIW",
        "outputId": "3440f2bb-fc47-44e8-d883-d1917caecebb"
      },
      "execution_count": null,
      "outputs": [
        {
          "output_type": "execute_result",
          "data": {
            "text/plain": [
              "0"
            ]
          },
          "metadata": {},
          "execution_count": 181
        }
      ]
    },
    {
      "cell_type": "code",
      "source": [
        "z['FAMI_ESTRATOVIVIENDA'].value_counts()"
      ],
      "metadata": {
        "colab": {
          "base_uri": "https://localhost:8080/",
          "height": 335
        },
        "id": "FAcQhxZ1uiEW",
        "outputId": "a7ad3ec4-0d13-4748-caa5-aab6bd01d09b"
      },
      "execution_count": null,
      "outputs": [
        {
          "output_type": "execute_result",
          "data": {
            "text/plain": [
              "FAMI_ESTRATOVIVIENDA\n",
              "Estrato 2      232671\n",
              "Estrato 3      210685\n",
              "Estrato 1      111991\n",
              "Estrato 4       65514\n",
              "Sin Estrato     35426\n",
              "Estrato 5       23608\n",
              "Estrato 6       12605\n",
              "Name: count, dtype: int64"
            ],
            "text/html": [
              "<div>\n",
              "<style scoped>\n",
              "    .dataframe tbody tr th:only-of-type {\n",
              "        vertical-align: middle;\n",
              "    }\n",
              "\n",
              "    .dataframe tbody tr th {\n",
              "        vertical-align: top;\n",
              "    }\n",
              "\n",
              "    .dataframe thead th {\n",
              "        text-align: right;\n",
              "    }\n",
              "</style>\n",
              "<table border=\"1\" class=\"dataframe\">\n",
              "  <thead>\n",
              "    <tr style=\"text-align: right;\">\n",
              "      <th></th>\n",
              "      <th>count</th>\n",
              "    </tr>\n",
              "    <tr>\n",
              "      <th>FAMI_ESTRATOVIVIENDA</th>\n",
              "      <th></th>\n",
              "    </tr>\n",
              "  </thead>\n",
              "  <tbody>\n",
              "    <tr>\n",
              "      <th>Estrato 2</th>\n",
              "      <td>232671</td>\n",
              "    </tr>\n",
              "    <tr>\n",
              "      <th>Estrato 3</th>\n",
              "      <td>210685</td>\n",
              "    </tr>\n",
              "    <tr>\n",
              "      <th>Estrato 1</th>\n",
              "      <td>111991</td>\n",
              "    </tr>\n",
              "    <tr>\n",
              "      <th>Estrato 4</th>\n",
              "      <td>65514</td>\n",
              "    </tr>\n",
              "    <tr>\n",
              "      <th>Sin Estrato</th>\n",
              "      <td>35426</td>\n",
              "    </tr>\n",
              "    <tr>\n",
              "      <th>Estrato 5</th>\n",
              "      <td>23608</td>\n",
              "    </tr>\n",
              "    <tr>\n",
              "      <th>Estrato 6</th>\n",
              "      <td>12605</td>\n",
              "    </tr>\n",
              "  </tbody>\n",
              "</table>\n",
              "</div><br><label><b>dtype:</b> int64</label>"
            ]
          },
          "metadata": {},
          "execution_count": 182
        }
      ]
    },
    {
      "cell_type": "code",
      "source": [
        "z.FAMI_ESTRATOVIVIENDA.value_counts().plot(kind='bar')"
      ],
      "metadata": {
        "colab": {
          "base_uri": "https://localhost:8080/",
          "height": 528
        },
        "id": "1n2Ra8MF_9xR",
        "outputId": "013a9d8a-1960-4db9-c154-4572126c6854"
      },
      "execution_count": null,
      "outputs": [
        {
          "output_type": "execute_result",
          "data": {
            "text/plain": [
              "<Axes: xlabel='FAMI_ESTRATOVIVIENDA'>"
            ]
          },
          "metadata": {},
          "execution_count": 183
        },
        {
          "output_type": "display_data",
          "data": {
            "text/plain": [
              "<Figure size 640x480 with 1 Axes>"
            ],
            "image/png": "[encoded data removed]"
          },
          "metadata": {}
        }
      ]
    },
    {
      "cell_type": "markdown",
      "source": [
        "# FAMI_TIENEINTERNET"
      ],
      "metadata": {
        "id": "SVjbebWP6wBx"
      }
    },
    {
      "cell_type": "markdown",
      "source": [
        "muestra un arreglo con todos los valores únicos que existen en la columna FAMI_TIENEINTERNET"
      ],
      "metadata": {
        "id": "5WlwVCeetQZA"
      }
    },
    {
      "cell_type": "code",
      "source": [
        "z['FAMI_TIENEINTERNET'].unique()"
      ],
      "metadata": {
        "colab": {
          "base_uri": "https://localhost:8080/"
        },
        "id": "nGGUiLvDUjN2",
        "outputId": "4132151b-61c9-40ad-efb7-71d574107248"
      },
      "execution_count": null,
      "outputs": [
        {
          "output_type": "execute_result",
          "data": {
            "text/plain": [
              "array(['Si', 'No', nan], dtype=object)"
            ]
          },
          "metadata": {},
          "execution_count": 184
        }
      ]
    },
    {
      "cell_type": "markdown",
      "source": [
        "cuenta cuántos valores faltantes (nulos) hay en la columna FAMI_TIENEINTERNET"
      ],
      "metadata": {
        "id": "JFVjq6C3teoF"
      }
    },
    {
      "cell_type": "code",
      "source": [
        "z['FAMI_TIENEINTERNET'].isna().sum()"
      ],
      "metadata": {
        "colab": {
          "base_uri": "https://localhost:8080/"
        },
        "id": "D3CCw8JHt8jg",
        "outputId": "3bf46276-87c9-49c4-fb36-be8c967a913d"
      },
      "execution_count": null,
      "outputs": [
        {
          "output_type": "execute_result",
          "data": {
            "text/plain": [
              "26629"
            ]
          },
          "metadata": {},
          "execution_count": 185
        }
      ]
    },
    {
      "cell_type": "markdown",
      "source": [
        "reemplaza los valores nulos en la columna FAMI_TIENEINTERNET"
      ],
      "metadata": {
        "id": "hjA5AFEgvvim"
      }
    },
    {
      "cell_type": "code",
      "source": [
        "z['FAMI_TIENEINTERNET'] = z['FAMI_TIENEINTERNET'].fillna(\"No\")"
      ],
      "metadata": {
        "id": "a8nUGIoAVD30"
      },
      "execution_count": null,
      "outputs": []
    },
    {
      "cell_type": "code",
      "source": [
        "z['FAMI_TIENEINTERNET'].isna().sum()"
      ],
      "metadata": {
        "colab": {
          "base_uri": "https://localhost:8080/"
        },
        "id": "_RcSORLIuRJw",
        "outputId": "fd437564-57a7-45ad-f53c-6c8cbe2d9c66"
      },
      "execution_count": null,
      "outputs": [
        {
          "output_type": "execute_result",
          "data": {
            "text/plain": [
              "0"
            ]
          },
          "metadata": {},
          "execution_count": 187
        }
      ]
    },
    {
      "cell_type": "code",
      "source": [
        "z['FAMI_TIENEINTERNET'].value_counts()"
      ],
      "metadata": {
        "colab": {
          "base_uri": "https://localhost:8080/",
          "height": 178
        },
        "id": "mZizkZ_RVSIf",
        "outputId": "671aae37-973c-46b3-baa0-76d98027c6b0"
      },
      "execution_count": null,
      "outputs": [
        {
          "output_type": "execute_result",
          "data": {
            "text/plain": [
              "FAMI_TIENEINTERNET\n",
              "Si    592514\n",
              "No     99986\n",
              "Name: count, dtype: int64"
            ],
            "text/html": [
              "<div>\n",
              "<style scoped>\n",
              "    .dataframe tbody tr th:only-of-type {\n",
              "        vertical-align: middle;\n",
              "    }\n",
              "\n",
              "    .dataframe tbody tr th {\n",
              "        vertical-align: top;\n",
              "    }\n",
              "\n",
              "    .dataframe thead th {\n",
              "        text-align: right;\n",
              "    }\n",
              "</style>\n",
              "<table border=\"1\" class=\"dataframe\">\n",
              "  <thead>\n",
              "    <tr style=\"text-align: right;\">\n",
              "      <th></th>\n",
              "      <th>count</th>\n",
              "    </tr>\n",
              "    <tr>\n",
              "      <th>FAMI_TIENEINTERNET</th>\n",
              "      <th></th>\n",
              "    </tr>\n",
              "  </thead>\n",
              "  <tbody>\n",
              "    <tr>\n",
              "      <th>Si</th>\n",
              "      <td>592514</td>\n",
              "    </tr>\n",
              "    <tr>\n",
              "      <th>No</th>\n",
              "      <td>99986</td>\n",
              "    </tr>\n",
              "  </tbody>\n",
              "</table>\n",
              "</div><br><label><b>dtype:</b> int64</label>"
            ]
          },
          "metadata": {},
          "execution_count": 188
        }
      ]
    },
    {
      "cell_type": "code",
      "source": [
        "z.FAMI_TIENEINTERNET.value_counts().plot(kind='bar')"
      ],
      "metadata": {
        "colab": {
          "base_uri": "https://localhost:8080/",
          "height": 471
        },
        "id": "Als-Frm8ANyl",
        "outputId": "3b5b31f6-4560-4fb3-a20f-152183622056"
      },
      "execution_count": null,
      "outputs": [
        {
          "output_type": "execute_result",
          "data": {
            "text/plain": [
              "<Axes: xlabel='FAMI_TIENEINTERNET'>"
            ]
          },
          "metadata": {},
          "execution_count": 192
        },
        {
          "output_type": "display_data",
          "data": {
            "text/plain": [
              "<Figure size 640x480 with 1 Axes>"
            ],
            "image/png": "[encoded data removed]"
          },
          "metadata": {}
        }
      ]
    },
    {
      "cell_type": "markdown",
      "source": [
        "# FAMI_EDUCACIONPADRE"
      ],
      "metadata": {
        "id": "_OluWWRu67rO"
      }
    },
    {
      "cell_type": "markdown",
      "source": [
        "muestra un arreglo con todos los valores únicos que existen en la columna FAMI_EDUCACIONPADRE"
      ],
      "metadata": {
        "id": "dUVvogrRv-Bt"
      }
    },
    {
      "cell_type": "code",
      "source": [
        "z['FAMI_EDUCACIONPADRE'].unique()"
      ],
      "metadata": {
        "colab": {
          "base_uri": "https://localhost:8080/"
        },
        "id": "_fIvJn3_VjrX",
        "outputId": "fe080a23-7011-418a-d9fe-a599aa0cbe95"
      },
      "execution_count": null,
      "outputs": [
        {
          "output_type": "execute_result",
          "data": {
            "text/plain": [
              "array(['Técnica o tecnológica incompleta',\n",
              "       'Técnica o tecnológica completa',\n",
              "       'Secundaria (Bachillerato) completa', 'No sabe',\n",
              "       'Primaria completa', 'Educación profesional completa',\n",
              "       'Educación profesional incompleta', 'Primaria incompleta',\n",
              "       'Postgrado', nan, 'Secundaria (Bachillerato) incompleta',\n",
              "       'Ninguno', 'No Aplica'], dtype=object)"
            ]
          },
          "metadata": {},
          "execution_count": 193
        }
      ]
    },
    {
      "cell_type": "code",
      "source": [
        "z['FAMI_EDUCACIONPADRE'].value_counts()"
      ],
      "metadata": {
        "colab": {
          "base_uri": "https://localhost:8080/",
          "height": 492
        },
        "id": "A1MBCkBaXjp9",
        "outputId": "e9cabc93-d60e-493f-92f8-b758335db415"
      },
      "execution_count": null,
      "outputs": [
        {
          "output_type": "execute_result",
          "data": {
            "text/plain": [
              "FAMI_EDUCACIONPADRE\n",
              "Secundaria (Bachillerato) completa      128289\n",
              "Primaria incompleta                     125675\n",
              "Educación profesional completa           83117\n",
              "Secundaria (Bachillerato) incompleta     71654\n",
              "Técnica o tecnológica completa           62995\n",
              "Primaria completa                        55958\n",
              "Postgrado                                44169\n",
              "Educación profesional incompleta         27084\n",
              "Técnica o tecnológica incompleta         22552\n",
              "Ninguno                                  22008\n",
              "No sabe                                  16592\n",
              "No Aplica                                 9229\n",
              "Name: count, dtype: int64"
            ],
            "text/html": [
              "<div>\n",
              "<style scoped>\n",
              "    .dataframe tbody tr th:only-of-type {\n",
              "        vertical-align: middle;\n",
              "    }\n",
              "\n",
              "    .dataframe tbody tr th {\n",
              "        vertical-align: top;\n",
              "    }\n",
              "\n",
              "    .dataframe thead th {\n",
              "        text-align: right;\n",
              "    }\n",
              "</style>\n",
              "<table border=\"1\" class=\"dataframe\">\n",
              "  <thead>\n",
              "    <tr style=\"text-align: right;\">\n",
              "      <th></th>\n",
              "      <th>count</th>\n",
              "    </tr>\n",
              "    <tr>\n",
              "      <th>FAMI_EDUCACIONPADRE</th>\n",
              "      <th></th>\n",
              "    </tr>\n",
              "  </thead>\n",
              "  <tbody>\n",
              "    <tr>\n",
              "      <th>Secundaria (Bachillerato) completa</th>\n",
              "      <td>128289</td>\n",
              "    </tr>\n",
              "    <tr>\n",
              "      <th>Primaria incompleta</th>\n",
              "      <td>125675</td>\n",
              "    </tr>\n",
              "    <tr>\n",
              "      <th>Educación profesional completa</th>\n",
              "      <td>83117</td>\n",
              "    </tr>\n",
              "    <tr>\n",
              "      <th>Secundaria (Bachillerato) incompleta</th>\n",
              "      <td>71654</td>\n",
              "    </tr>\n",
              "    <tr>\n",
              "      <th>Técnica o tecnológica completa</th>\n",
              "      <td>62995</td>\n",
              "    </tr>\n",
              "    <tr>\n",
              "      <th>Primaria completa</th>\n",
              "      <td>55958</td>\n",
              "    </tr>\n",
              "    <tr>\n",
              "      <th>Postgrado</th>\n",
              "      <td>44169</td>\n",
              "    </tr>\n",
              "    <tr>\n",
              "      <th>Educación profesional incompleta</th>\n",
              "      <td>27084</td>\n",
              "    </tr>\n",
              "    <tr>\n",
              "      <th>Técnica o tecnológica incompleta</th>\n",
              "      <td>22552</td>\n",
              "    </tr>\n",
              "    <tr>\n",
              "      <th>Ninguno</th>\n",
              "      <td>22008</td>\n",
              "    </tr>\n",
              "    <tr>\n",
              "      <th>No sabe</th>\n",
              "      <td>16592</td>\n",
              "    </tr>\n",
              "    <tr>\n",
              "      <th>No Aplica</th>\n",
              "      <td>9229</td>\n",
              "    </tr>\n",
              "  </tbody>\n",
              "</table>\n",
              "</div><br><label><b>dtype:</b> int64</label>"
            ]
          },
          "metadata": {},
          "execution_count": 194
        }
      ]
    },
    {
      "cell_type": "markdown",
      "source": [
        "cuenta cuántos valores faltantes (nulos) hay en la columna FAMI_EDUCACIONPADRE"
      ],
      "metadata": {
        "id": "Mrwy8cCYwrHG"
      }
    },
    {
      "cell_type": "code",
      "source": [
        "z['FAMI_EDUCACIONPADRE'].isna().sum()"
      ],
      "metadata": {
        "colab": {
          "base_uri": "https://localhost:8080/"
        },
        "id": "qo6Fg5I2whLH",
        "outputId": "438d8a9e-e3c4-4264-a63f-1df2067dab7b"
      },
      "execution_count": null,
      "outputs": [
        {
          "output_type": "execute_result",
          "data": {
            "text/plain": [
              "23178"
            ]
          },
          "metadata": {},
          "execution_count": 195
        }
      ]
    },
    {
      "cell_type": "code",
      "source": [
        "z['FAMI_EDUCACIONPADRE'] = z['FAMI_EDUCACIONPADRE'].replace(r'No Aplica', 'No sabe')\n",
        "z['FAMI_EDUCACIONPADRE'] = z['FAMI_EDUCACIONPADRE'].fillna('No sabe')"
      ],
      "metadata": {
        "id": "zxtHA1HLXMSu"
      },
      "execution_count": null,
      "outputs": []
    },
    {
      "cell_type": "code",
      "source": [
        "z['FAMI_EDUCACIONPADRE'].isna().sum()"
      ],
      "metadata": {
        "colab": {
          "base_uri": "https://localhost:8080/"
        },
        "id": "IKcS63QAw9af",
        "outputId": "73c44599-3a36-46b5-b01c-2651bd7791ec"
      },
      "execution_count": null,
      "outputs": [
        {
          "output_type": "execute_result",
          "data": {
            "text/plain": [
              "0"
            ]
          },
          "metadata": {},
          "execution_count": 197
        }
      ]
    },
    {
      "cell_type": "code",
      "source": [
        "z['FAMI_EDUCACIONPADRE'].value_counts()"
      ],
      "metadata": {
        "colab": {
          "base_uri": "https://localhost:8080/",
          "height": 460
        },
        "outputId": "f21cfcc2-8e9a-4c75-df41-6f5205ecb7c9",
        "id": "FjVAhv0lX53O"
      },
      "execution_count": null,
      "outputs": [
        {
          "output_type": "execute_result",
          "data": {
            "text/plain": [
              "FAMI_EDUCACIONPADRE\n",
              "Secundaria (Bachillerato) completa      128289\n",
              "Primaria incompleta                     125675\n",
              "Educación profesional completa           83117\n",
              "Secundaria (Bachillerato) incompleta     71654\n",
              "Técnica o tecnológica completa           62995\n",
              "Primaria completa                        55958\n",
              "No sabe                                  48999\n",
              "Postgrado                                44169\n",
              "Educación profesional incompleta         27084\n",
              "Técnica o tecnológica incompleta         22552\n",
              "Ninguno                                  22008\n",
              "Name: count, dtype: int64"
            ],
            "text/html": [
              "<div>\n",
              "<style scoped>\n",
              "    .dataframe tbody tr th:only-of-type {\n",
              "        vertical-align: middle;\n",
              "    }\n",
              "\n",
              "    .dataframe tbody tr th {\n",
              "        vertical-align: top;\n",
              "    }\n",
              "\n",
              "    .dataframe thead th {\n",
              "        text-align: right;\n",
              "    }\n",
              "</style>\n",
              "<table border=\"1\" class=\"dataframe\">\n",
              "  <thead>\n",
              "    <tr style=\"text-align: right;\">\n",
              "      <th></th>\n",
              "      <th>count</th>\n",
              "    </tr>\n",
              "    <tr>\n",
              "      <th>FAMI_EDUCACIONPADRE</th>\n",
              "      <th></th>\n",
              "    </tr>\n",
              "  </thead>\n",
              "  <tbody>\n",
              "    <tr>\n",
              "      <th>Secundaria (Bachillerato) completa</th>\n",
              "      <td>128289</td>\n",
              "    </tr>\n",
              "    <tr>\n",
              "      <th>Primaria incompleta</th>\n",
              "      <td>125675</td>\n",
              "    </tr>\n",
              "    <tr>\n",
              "      <th>Educación profesional completa</th>\n",
              "      <td>83117</td>\n",
              "    </tr>\n",
              "    <tr>\n",
              "      <th>Secundaria (Bachillerato) incompleta</th>\n",
              "      <td>71654</td>\n",
              "    </tr>\n",
              "    <tr>\n",
              "      <th>Técnica o tecnológica completa</th>\n",
              "      <td>62995</td>\n",
              "    </tr>\n",
              "    <tr>\n",
              "      <th>Primaria completa</th>\n",
              "      <td>55958</td>\n",
              "    </tr>\n",
              "    <tr>\n",
              "      <th>No sabe</th>\n",
              "      <td>48999</td>\n",
              "    </tr>\n",
              "    <tr>\n",
              "      <th>Postgrado</th>\n",
              "      <td>44169</td>\n",
              "    </tr>\n",
              "    <tr>\n",
              "      <th>Educación profesional incompleta</th>\n",
              "      <td>27084</td>\n",
              "    </tr>\n",
              "    <tr>\n",
              "      <th>Técnica o tecnológica incompleta</th>\n",
              "      <td>22552</td>\n",
              "    </tr>\n",
              "    <tr>\n",
              "      <th>Ninguno</th>\n",
              "      <td>22008</td>\n",
              "    </tr>\n",
              "  </tbody>\n",
              "</table>\n",
              "</div><br><label><b>dtype:</b> int64</label>"
            ]
          },
          "metadata": {},
          "execution_count": 198
        }
      ]
    },
    {
      "cell_type": "code",
      "source": [
        "z.FAMI_EDUCACIONPADRE.value_counts().plot(kind='bar')"
      ],
      "metadata": {
        "colab": {
          "base_uri": "https://localhost:8080/",
          "height": 711
        },
        "id": "GPyUGll1BCqQ",
        "outputId": "ecd61789-7aac-40a8-8dd7-4afe455e2d0f"
      },
      "execution_count": null,
      "outputs": [
        {
          "output_type": "execute_result",
          "data": {
            "text/plain": [
              "<Axes: xlabel='FAMI_EDUCACIONPADRE'>"
            ]
          },
          "metadata": {},
          "execution_count": 199
        },
        {
          "output_type": "display_data",
          "data": {
            "text/plain": [
              "<Figure size 640x480 with 1 Axes>"
            ],
            "image/png": "[encoded data removed]"
          },
          "metadata": {}
        }
      ]
    },
    {
      "cell_type": "markdown",
      "source": [
        "# FAMI_EDUCACIONMADRE"
      ],
      "metadata": {
        "id": "LVsl_J0f7HVc"
      }
    },
    {
      "cell_type": "markdown",
      "source": [
        "muestra un arreglo con todos los valores únicos que existen en la columna FAMI_EDUCACIONMADRE"
      ],
      "metadata": {
        "id": "_iJdnHgxxQNS"
      }
    },
    {
      "cell_type": "code",
      "source": [
        "z['FAMI_EDUCACIONMADRE'].unique()"
      ],
      "metadata": {
        "colab": {
          "base_uri": "https://localhost:8080/"
        },
        "id": "qv9epYHAY3iN",
        "outputId": "f018b2b6-ef23-43a6-d547-e90acc7863a3"
      },
      "execution_count": null,
      "outputs": [
        {
          "output_type": "execute_result",
          "data": {
            "text/plain": [
              "array(['Postgrado', 'Técnica o tecnológica incompleta',\n",
              "       'Secundaria (Bachillerato) completa', 'Primaria completa',\n",
              "       'Técnica o tecnológica completa',\n",
              "       'Secundaria (Bachillerato) incompleta',\n",
              "       'Educación profesional incompleta',\n",
              "       'Educación profesional completa', 'Primaria incompleta', nan,\n",
              "       'Ninguno', 'No Aplica', 'No sabe'], dtype=object)"
            ]
          },
          "metadata": {},
          "execution_count": 200
        }
      ]
    },
    {
      "cell_type": "markdown",
      "source": [
        "cuenta cuántos valores faltantes (nulos) hay en la columna FAMI_EDUCACIONMADRE"
      ],
      "metadata": {
        "id": "STMoetd4xZQx"
      }
    },
    {
      "cell_type": "code",
      "source": [
        "z['FAMI_EDUCACIONMADRE'].isna().sum()"
      ],
      "metadata": {
        "colab": {
          "base_uri": "https://localhost:8080/"
        },
        "id": "GBxOz0W9xXns",
        "outputId": "f0c7020f-c5a1-4612-c904-f69110de22f4"
      },
      "execution_count": null,
      "outputs": [
        {
          "output_type": "execute_result",
          "data": {
            "text/plain": [
              "23664"
            ]
          },
          "metadata": {},
          "execution_count": 201
        }
      ]
    },
    {
      "cell_type": "code",
      "source": [
        "z['FAMI_EDUCACIONMADRE'] = z['FAMI_EDUCACIONMADRE'].replace(r'No Aplica', 'No sabe')\n",
        "z['FAMI_EDUCACIONMADRE'] = z['FAMI_EDUCACIONMADRE'].fillna('No sabe')"
      ],
      "metadata": {
        "id": "-Zjw8E8GZBnC"
      },
      "execution_count": null,
      "outputs": []
    },
    {
      "cell_type": "code",
      "source": [
        "z['FAMI_EDUCACIONMADRE'].isna().sum()"
      ],
      "metadata": {
        "colab": {
          "base_uri": "https://localhost:8080/"
        },
        "id": "8XPwCSv-xhev",
        "outputId": "6f096ec1-9049-4dd5-e5fc-d6e6a3bab51d"
      },
      "execution_count": null,
      "outputs": [
        {
          "output_type": "execute_result",
          "data": {
            "text/plain": [
              "0"
            ]
          },
          "metadata": {},
          "execution_count": 203
        }
      ]
    },
    {
      "cell_type": "code",
      "source": [
        "z['FAMI_EDUCACIONMADRE'].value_counts()"
      ],
      "metadata": {
        "colab": {
          "base_uri": "https://localhost:8080/",
          "height": 460
        },
        "id": "qavyW-FAZNAp",
        "outputId": "73af328a-6269-497a-9d50-783f56b84291"
      },
      "execution_count": null,
      "outputs": [
        {
          "output_type": "execute_result",
          "data": {
            "text/plain": [
              "FAMI_EDUCACIONMADRE\n",
              "Secundaria (Bachillerato) completa      141744\n",
              "Primaria incompleta                      99420\n",
              "Técnica o tecnológica completa           89542\n",
              "Educación profesional completa           85326\n",
              "Secundaria (Bachillerato) incompleta     81012\n",
              "Primaria completa                        56125\n",
              "Postgrado                                46246\n",
              "No sabe                                  28599\n",
              "Técnica o tecnológica incompleta         27533\n",
              "Educación profesional incompleta         22470\n",
              "Ninguno                                  14483\n",
              "Name: count, dtype: int64"
            ],
            "text/html": [
              "<div>\n",
              "<style scoped>\n",
              "    .dataframe tbody tr th:only-of-type {\n",
              "        vertical-align: middle;\n",
              "    }\n",
              "\n",
              "    .dataframe tbody tr th {\n",
              "        vertical-align: top;\n",
              "    }\n",
              "\n",
              "    .dataframe thead th {\n",
              "        text-align: right;\n",
              "    }\n",
              "</style>\n",
              "<table border=\"1\" class=\"dataframe\">\n",
              "  <thead>\n",
              "    <tr style=\"text-align: right;\">\n",
              "      <th></th>\n",
              "      <th>count</th>\n",
              "    </tr>\n",
              "    <tr>\n",
              "      <th>FAMI_EDUCACIONMADRE</th>\n",
              "      <th></th>\n",
              "    </tr>\n",
              "  </thead>\n",
              "  <tbody>\n",
              "    <tr>\n",
              "      <th>Secundaria (Bachillerato) completa</th>\n",
              "      <td>141744</td>\n",
              "    </tr>\n",
              "    <tr>\n",
              "      <th>Primaria incompleta</th>\n",
              "      <td>99420</td>\n",
              "    </tr>\n",
              "    <tr>\n",
              "      <th>Técnica o tecnológica completa</th>\n",
              "      <td>89542</td>\n",
              "    </tr>\n",
              "    <tr>\n",
              "      <th>Educación profesional completa</th>\n",
              "      <td>85326</td>\n",
              "    </tr>\n",
              "    <tr>\n",
              "      <th>Secundaria (Bachillerato) incompleta</th>\n",
              "      <td>81012</td>\n",
              "    </tr>\n",
              "    <tr>\n",
              "      <th>Primaria completa</th>\n",
              "      <td>56125</td>\n",
              "    </tr>\n",
              "    <tr>\n",
              "      <th>Postgrado</th>\n",
              "      <td>46246</td>\n",
              "    </tr>\n",
              "    <tr>\n",
              "      <th>No sabe</th>\n",
              "      <td>28599</td>\n",
              "    </tr>\n",
              "    <tr>\n",
              "      <th>Técnica o tecnológica incompleta</th>\n",
              "      <td>27533</td>\n",
              "    </tr>\n",
              "    <tr>\n",
              "      <th>Educación profesional incompleta</th>\n",
              "      <td>22470</td>\n",
              "    </tr>\n",
              "    <tr>\n",
              "      <th>Ninguno</th>\n",
              "      <td>14483</td>\n",
              "    </tr>\n",
              "  </tbody>\n",
              "</table>\n",
              "</div><br><label><b>dtype:</b> int64</label>"
            ]
          },
          "metadata": {},
          "execution_count": 204
        }
      ]
    },
    {
      "cell_type": "code",
      "source": [
        "z.FAMI_EDUCACIONMADRE.value_counts().plot(kind='bar')"
      ],
      "metadata": {
        "colab": {
          "base_uri": "https://localhost:8080/",
          "height": 711
        },
        "id": "_kCxgq8EBMWP",
        "outputId": "51fb08d8-1ee2-466b-9d00-97f5503d0977"
      },
      "execution_count": null,
      "outputs": [
        {
          "output_type": "execute_result",
          "data": {
            "text/plain": [
              "<Axes: xlabel='FAMI_EDUCACIONMADRE'>"
            ]
          },
          "metadata": {},
          "execution_count": 205
        },
        {
          "output_type": "display_data",
          "data": {
            "text/plain": [
              "<Figure size 640x480 with 1 Axes>"
            ],
            "image/png": "[encoded data removed]"
          },
          "metadata": {}
        }
      ]
    },
    {
      "cell_type": "markdown",
      "source": [
        "# ESTU_PAGOMATRICULAPROPIO"
      ],
      "metadata": {
        "id": "fKtWcvhg7PYR"
      }
    },
    {
      "cell_type": "markdown",
      "source": [
        "muestra un arreglo con todos los valores únicos que existen en la columna ESTU_PAGOMATRICULAPROPIO"
      ],
      "metadata": {
        "id": "b1se13E-yNge"
      }
    },
    {
      "cell_type": "code",
      "source": [
        "z['ESTU_PAGOMATRICULAPROPIO'].unique()"
      ],
      "metadata": {
        "colab": {
          "base_uri": "https://localhost:8080/"
        },
        "id": "OzHn3a8zZyji",
        "outputId": "9175f0db-614c-4076-fa8f-4f76feea9a75"
      },
      "execution_count": null,
      "outputs": [
        {
          "output_type": "execute_result",
          "data": {
            "text/plain": [
              "array(['No', 'Si', nan], dtype=object)"
            ]
          },
          "metadata": {},
          "execution_count": 206
        }
      ]
    },
    {
      "cell_type": "markdown",
      "source": [
        "cuenta cuántos valores faltantes (nulos) hay en la columna ESTU_PAGOMATRICULAPROPIO\n",
        "\n",
        "---\n",
        "\n"
      ],
      "metadata": {
        "id": "iHOcHW2IyY_g"
      }
    },
    {
      "cell_type": "code",
      "source": [
        "z['ESTU_PAGOMATRICULAPROPIO'].isna().sum()"
      ],
      "metadata": {
        "colab": {
          "base_uri": "https://localhost:8080/"
        },
        "id": "VqENJ8AwyVG7",
        "outputId": "95e6607c-67b8-4c17-c2c9-2b74f38c9218"
      },
      "execution_count": null,
      "outputs": [
        {
          "output_type": "execute_result",
          "data": {
            "text/plain": [
              "6498"
            ]
          },
          "metadata": {},
          "execution_count": 207
        }
      ]
    },
    {
      "cell_type": "code",
      "source": [
        "z['ESTU_PAGOMATRICULAPROPIO'] = z['ESTU_PAGOMATRICULAPROPIO'].fillna(\"No\")"
      ],
      "metadata": {
        "id": "NKGCsLv5aRTM"
      },
      "execution_count": null,
      "outputs": []
    },
    {
      "cell_type": "code",
      "source": [
        "z['ESTU_PAGOMATRICULAPROPIO'].isna().sum()"
      ],
      "metadata": {
        "colab": {
          "base_uri": "https://localhost:8080/"
        },
        "id": "KNA4HWGkypxR",
        "outputId": "74248bee-697c-434d-95aa-e7c1e6b218bc"
      },
      "execution_count": null,
      "outputs": [
        {
          "output_type": "execute_result",
          "data": {
            "text/plain": [
              "0"
            ]
          },
          "metadata": {},
          "execution_count": 209
        }
      ]
    },
    {
      "cell_type": "code",
      "source": [
        "z['ESTU_PAGOMATRICULAPROPIO'].value_counts()"
      ],
      "metadata": {
        "colab": {
          "base_uri": "https://localhost:8080/",
          "height": 178
        },
        "id": "AdW-IjenaXOY",
        "outputId": "0ca5bd38-66fa-4a12-8c69-e035563a5201"
      },
      "execution_count": null,
      "outputs": [
        {
          "output_type": "execute_result",
          "data": {
            "text/plain": [
              "ESTU_PAGOMATRICULAPROPIO\n",
              "No    388699\n",
              "Si    303801\n",
              "Name: count, dtype: int64"
            ],
            "text/html": [
              "<div>\n",
              "<style scoped>\n",
              "    .dataframe tbody tr th:only-of-type {\n",
              "        vertical-align: middle;\n",
              "    }\n",
              "\n",
              "    .dataframe tbody tr th {\n",
              "        vertical-align: top;\n",
              "    }\n",
              "\n",
              "    .dataframe thead th {\n",
              "        text-align: right;\n",
              "    }\n",
              "</style>\n",
              "<table border=\"1\" class=\"dataframe\">\n",
              "  <thead>\n",
              "    <tr style=\"text-align: right;\">\n",
              "      <th></th>\n",
              "      <th>count</th>\n",
              "    </tr>\n",
              "    <tr>\n",
              "      <th>ESTU_PAGOMATRICULAPROPIO</th>\n",
              "      <th></th>\n",
              "    </tr>\n",
              "  </thead>\n",
              "  <tbody>\n",
              "    <tr>\n",
              "      <th>No</th>\n",
              "      <td>388699</td>\n",
              "    </tr>\n",
              "    <tr>\n",
              "      <th>Si</th>\n",
              "      <td>303801</td>\n",
              "    </tr>\n",
              "  </tbody>\n",
              "</table>\n",
              "</div><br><label><b>dtype:</b> int64</label>"
            ]
          },
          "metadata": {},
          "execution_count": 210
        }
      ]
    },
    {
      "cell_type": "code",
      "source": [
        "z.ESTU_PAGOMATRICULAPROPIO.value_counts().plot(kind='bar')"
      ],
      "metadata": {
        "colab": {
          "base_uri": "https://localhost:8080/",
          "height": 471
        },
        "id": "c5CWyeBgBa6X",
        "outputId": "d4559327-517f-4362-8011-ade6f6e02d38"
      },
      "execution_count": null,
      "outputs": [
        {
          "output_type": "execute_result",
          "data": {
            "text/plain": [
              "<Axes: xlabel='ESTU_PAGOMATRICULAPROPIO'>"
            ]
          },
          "metadata": {},
          "execution_count": 211
        },
        {
          "output_type": "display_data",
          "data": {
            "text/plain": [
              "<Figure size 640x480 with 1 Axes>"
            ],
            "image/png": "[encoded data removed]"
          },
          "metadata": {}
        }
      ]
    },
    {
      "cell_type": "markdown",
      "source": [
        "# RENDIMIENTO_GLOBAL"
      ],
      "metadata": {
        "id": "JYoNtoZv7ZBe"
      }
    },
    {
      "cell_type": "markdown",
      "source": [
        "muestra un arreglo con todos los valores únicos que existen en la columna RENDIMIENTO_GLOBAL"
      ],
      "metadata": {
        "id": "uvSUlWszzaua"
      }
    },
    {
      "cell_type": "code",
      "source": [
        "z['RENDIMIENTO_GLOBAL'].unique()"
      ],
      "metadata": {
        "colab": {
          "base_uri": "https://localhost:8080/"
        },
        "id": "IoLjHjPzzQEU",
        "outputId": "bc4244aa-dae3-443f-96e1-64c92ae504fa"
      },
      "execution_count": null,
      "outputs": [
        {
          "output_type": "execute_result",
          "data": {
            "text/plain": [
              "array(['medio-alto', 'bajo', 'alto', 'medio-bajo'], dtype=object)"
            ]
          },
          "metadata": {},
          "execution_count": 212
        }
      ]
    },
    {
      "cell_type": "markdown",
      "source": [
        "cuenta cuántos valores faltantes (nulos) hay en la columna RENDIMIENTO_GLOBAL"
      ],
      "metadata": {
        "id": "pTAIX2-0zgt7"
      }
    },
    {
      "cell_type": "code",
      "source": [
        "z['RENDIMIENTO_GLOBAL'].isna().sum()"
      ],
      "metadata": {
        "colab": {
          "base_uri": "https://localhost:8080/"
        },
        "id": "uvwsvxhMzC5R",
        "outputId": "3ff5e61b-284f-413d-8149-1f1ec8c4515c"
      },
      "execution_count": null,
      "outputs": [
        {
          "output_type": "execute_result",
          "data": {
            "text/plain": [
              "0"
            ]
          },
          "metadata": {},
          "execution_count": 213
        }
      ]
    },
    {
      "cell_type": "markdown",
      "source": [
        "El código z.isnull().sum() cuenta cuántos valores nulos (faltantes) hay en cada columna del DataFrame z y muestra el resultado, permitiendo ver qué columnas aún tienen valores faltantes."
      ],
      "metadata": {
        "id": "ahPxMNwVz2gx"
      }
    },
    {
      "cell_type": "code",
      "source": [
        "z.isnull().sum()"
      ],
      "metadata": {
        "colab": {
          "base_uri": "https://localhost:8080/",
          "height": 429
        },
        "id": "gqpqadp8ai37",
        "outputId": "8f41713c-a2d5-4bef-a639-0778ee5498f3"
      },
      "execution_count": null,
      "outputs": [
        {
          "output_type": "execute_result",
          "data": {
            "text/plain": [
              "PERIODO                           0\n",
              "ESTU_PRGM_ACADEMICO               0\n",
              "ESTU_PRGM_DEPARTAMENTO            0\n",
              "ESTU_VALORMATRICULAUNIVERSIDAD    0\n",
              "ESTU_HORASSEMANATRABAJA           0\n",
              "FAMI_ESTRATOVIVIENDA              0\n",
              "FAMI_TIENEINTERNET                0\n",
              "FAMI_EDUCACIONPADRE               0\n",
              "FAMI_EDUCACIONMADRE               0\n",
              "ESTU_PAGOMATRICULAPROPIO          0\n",
              "RENDIMIENTO_GLOBAL                0\n",
              "dtype: int64"
            ],
            "text/html": [
              "<div>\n",
              "<style scoped>\n",
              "    .dataframe tbody tr th:only-of-type {\n",
              "        vertical-align: middle;\n",
              "    }\n",
              "\n",
              "    .dataframe tbody tr th {\n",
              "        vertical-align: top;\n",
              "    }\n",
              "\n",
              "    .dataframe thead th {\n",
              "        text-align: right;\n",
              "    }\n",
              "</style>\n",
              "<table border=\"1\" class=\"dataframe\">\n",
              "  <thead>\n",
              "    <tr style=\"text-align: right;\">\n",
              "      <th></th>\n",
              "      <th>0</th>\n",
              "    </tr>\n",
              "  </thead>\n",
              "  <tbody>\n",
              "    <tr>\n",
              "      <th>PERIODO</th>\n",
              "      <td>0</td>\n",
              "    </tr>\n",
              "    <tr>\n",
              "      <th>ESTU_PRGM_ACADEMICO</th>\n",
              "      <td>0</td>\n",
              "    </tr>\n",
              "    <tr>\n",
              "      <th>ESTU_PRGM_DEPARTAMENTO</th>\n",
              "      <td>0</td>\n",
              "    </tr>\n",
              "    <tr>\n",
              "      <th>ESTU_VALORMATRICULAUNIVERSIDAD</th>\n",
              "      <td>0</td>\n",
              "    </tr>\n",
              "    <tr>\n",
              "      <th>ESTU_HORASSEMANATRABAJA</th>\n",
              "      <td>0</td>\n",
              "    </tr>\n",
              "    <tr>\n",
              "      <th>FAMI_ESTRATOVIVIENDA</th>\n",
              "      <td>0</td>\n",
              "    </tr>\n",
              "    <tr>\n",
              "      <th>FAMI_TIENEINTERNET</th>\n",
              "      <td>0</td>\n",
              "    </tr>\n",
              "    <tr>\n",
              "      <th>FAMI_EDUCACIONPADRE</th>\n",
              "      <td>0</td>\n",
              "    </tr>\n",
              "    <tr>\n",
              "      <th>FAMI_EDUCACIONMADRE</th>\n",
              "      <td>0</td>\n",
              "    </tr>\n",
              "    <tr>\n",
              "      <th>ESTU_PAGOMATRICULAPROPIO</th>\n",
              "      <td>0</td>\n",
              "    </tr>\n",
              "    <tr>\n",
              "      <th>RENDIMIENTO_GLOBAL</th>\n",
              "      <td>0</td>\n",
              "    </tr>\n",
              "  </tbody>\n",
              "</table>\n",
              "</div><br><label><b>dtype:</b> int64</label>"
            ]
          },
          "metadata": {},
          "execution_count": 215
        }
      ]
    },
    {
      "cell_type": "markdown",
      "source": [
        "El código z.info() muestra un resumen del DataFrame z con el número de filas, columnas, tipos de datos y cuántos valores no nulos hay en cada columna."
      ],
      "metadata": {
        "id": "VQZVfHlI0Ejz"
      }
    },
    {
      "cell_type": "code",
      "source": [
        "z.info()"
      ],
      "metadata": {
        "colab": {
          "base_uri": "https://localhost:8080/"
        },
        "id": "8msLy1Bbath8",
        "outputId": "67809f04-474d-4939-cdb4-a8eea4e12d25"
      },
      "execution_count": null,
      "outputs": [
        {
          "output_type": "stream",
          "name": "stdout",
          "text": [
            "<class 'pandas.core.frame.DataFrame'>\n",
            "Index: 692500 entries, 904256 to 933374\n",
            "Data columns (total 11 columns):\n",
            " #   Column                          Non-Null Count   Dtype \n",
            "---  ------                          --------------   ----- \n",
            " 0   PERIODO                         692500 non-null  int64 \n",
            " 1   ESTU_PRGM_ACADEMICO             692500 non-null  object\n",
            " 2   ESTU_PRGM_DEPARTAMENTO          692500 non-null  object\n",
            " 3   ESTU_VALORMATRICULAUNIVERSIDAD  692500 non-null  object\n",
            " 4   ESTU_HORASSEMANATRABAJA         692500 non-null  object\n",
            " 5   FAMI_ESTRATOVIVIENDA            692500 non-null  object\n",
            " 6   FAMI_TIENEINTERNET              692500 non-null  object\n",
            " 7   FAMI_EDUCACIONPADRE             692500 non-null  object\n",
            " 8   FAMI_EDUCACIONMADRE             692500 non-null  object\n",
            " 9   ESTU_PAGOMATRICULAPROPIO        692500 non-null  object\n",
            " 10  RENDIMIENTO_GLOBAL              692500 non-null  object\n",
            "dtypes: int64(1), object(10)\n",
            "memory usage: 63.4+ MB\n"
          ]
        }
      ]
    },
    {
      "cell_type": "markdown",
      "source": [
        "# One-Hot Encoding"
      ],
      "metadata": {
        "id": "xK6x7xQ07qfk"
      }
    },
    {
      "cell_type": "markdown",
      "source": [
        "El código aplica One-Hot Encoding a las columnas categóricas del DataFrame z y convierte los valores booleanos resultantes en enteros (0 y 1)."
      ],
      "metadata": {
        "id": "L7oOPYCj2JJr"
      }
    },
    {
      "cell_type": "code",
      "source": [
        "print(z.dtypes)  # Verificar los tipos de datos en tu DataFrame\n",
        "\n",
        "object_columns = z.select_dtypes(include=['object']).columns   # Seleccionar solo las columnas de tipo 'object'\n",
        "\n",
        "z = pd.get_dummies(z, columns=object_columns, drop_first=False)   # Aplicar One-Hot Encoding en las columnas de tipo object (sin eliminar la primera categoría)\n",
        "z = z.astype(int)  # Convertir columnas booleanas (True/False) a enteros (0 y 1)"
      ],
      "metadata": {
        "colab": {
          "base_uri": "https://localhost:8080/"
        },
        "id": "yc3eDo-EbkUG",
        "outputId": "3645de0e-cdf4-4ba7-9f74-25b39a2c3062"
      },
      "execution_count": null,
      "outputs": [
        {
          "output_type": "stream",
          "name": "stdout",
          "text": [
            "PERIODO                                          int64\n",
            "ESTU_PRGM_ACADEMICO_ADMINISTRACION Y NEGOCIOS    int64\n",
            "ESTU_PRGM_ACADEMICO_AGRONOMIA Y VETERINARIA      int64\n",
            "ESTU_PRGM_ACADEMICO_ANIMACION                    int64\n",
            "ESTU_PRGM_ACADEMICO_ARCHIVISTICA                 int64\n",
            "                                                 ...  \n",
            "ESTU_PAGOMATRICULAPROPIO_Si                      int64\n",
            "RENDIMIENTO_GLOBAL_alto                          int64\n",
            "RENDIMIENTO_GLOBAL_bajo                          int64\n",
            "RENDIMIENTO_GLOBAL_medio-alto                    int64\n",
            "RENDIMIENTO_GLOBAL_medio-bajo                    int64\n",
            "Length: 163, dtype: object\n"
          ]
        }
      ]
    },
    {
      "cell_type": "code",
      "source": [
        "z.head()"
      ],
      "metadata": {
        "colab": {
          "base_uri": "https://localhost:8080/",
          "height": 304
        },
        "id": "GDiCEpaVb9PT",
        "outputId": "b72df8c9-839a-4b38-d4cc-6b75a08c5994"
      },
      "execution_count": null,
      "outputs": [
        {
          "output_type": "execute_result",
          "data": {
            "text/plain": [
              "        PERIODO  ESTU_PRGM_ACADEMICO_ADMINISTRACION Y NEGOCIOS  \\\n",
              "ID                                                               \n",
              "904256    20212                                              0   \n",
              "645256    20212                                              0   \n",
              "308367    20203                                              1   \n",
              "470353    20195                                              1   \n",
              "989032    20212                                              0   \n",
              "\n",
              "        ESTU_PRGM_ACADEMICO_AGRONOMIA Y VETERINARIA  \\\n",
              "ID                                                    \n",
              "904256                                            0   \n",
              "645256                                            0   \n",
              "308367                                            0   \n",
              "470353                                            0   \n",
              "989032                                            0   \n",
              "\n",
              "        ESTU_PRGM_ACADEMICO_ANIMACION  ESTU_PRGM_ACADEMICO_ARCHIVISTICA  \\\n",
              "ID                                                                        \n",
              "904256                              0                                 0   \n",
              "645256                              0                                 0   \n",
              "308367                              0                                 0   \n",
              "470353                              0                                 0   \n",
              "989032                              0                                 0   \n",
              "\n",
              "        ESTU_PRGM_ACADEMICO_ARQUEOLOGIA  \\\n",
              "ID                                        \n",
              "904256                                0   \n",
              "645256                                0   \n",
              "308367                                0   \n",
              "470353                                0   \n",
              "989032                                0   \n",
              "\n",
              "        ESTU_PRGM_ACADEMICO_ARQUITECTURA Y CONSTRUCCION  \\\n",
              "ID                                                        \n",
              "904256                                                0   \n",
              "645256                                                0   \n",
              "308367                                                0   \n",
              "470353                                                0   \n",
              "989032                                                0   \n",
              "\n",
              "        ESTU_PRGM_ACADEMICO_ARTE  ESTU_PRGM_ACADEMICO_ARTE DRAMATICO  \\\n",
              "ID                                                                     \n",
              "904256                         0                                   0   \n",
              "645256                         0                                   0   \n",
              "308367                         0                                   0   \n",
              "470353                         0                                   0   \n",
              "989032                         0                                   0   \n",
              "\n",
              "        ESTU_PRGM_ACADEMICO_ARTES Y COMUNICACION  ...  \\\n",
              "ID                                                ...   \n",
              "904256                                         0  ...   \n",
              "645256                                         0  ...   \n",
              "308367                                         0  ...   \n",
              "470353                                         0  ...   \n",
              "989032                                         0  ...   \n",
              "\n",
              "        FAMI_EDUCACIONMADRE_Secundaria (Bachillerato) completa  \\\n",
              "ID                                                               \n",
              "904256                                                  0        \n",
              "645256                                                  0        \n",
              "308367                                                  1        \n",
              "470353                                                  1        \n",
              "989032                                                  0        \n",
              "\n",
              "        FAMI_EDUCACIONMADRE_Secundaria (Bachillerato) incompleta  \\\n",
              "ID                                                                 \n",
              "904256                                                  0          \n",
              "645256                                                  0          \n",
              "308367                                                  0          \n",
              "470353                                                  0          \n",
              "989032                                                  0          \n",
              "\n",
              "        FAMI_EDUCACIONMADRE_Técnica o tecnológica completa  \\\n",
              "ID                                                           \n",
              "904256                                                  0    \n",
              "645256                                                  0    \n",
              "308367                                                  0    \n",
              "470353                                                  0    \n",
              "989032                                                  0    \n",
              "\n",
              "        FAMI_EDUCACIONMADRE_Técnica o tecnológica incompleta  \\\n",
              "ID                                                             \n",
              "904256                                                  0      \n",
              "645256                                                  1      \n",
              "308367                                                  0      \n",
              "470353                                                  0      \n",
              "989032                                                  0      \n",
              "\n",
              "        ESTU_PAGOMATRICULAPROPIO_No  ESTU_PAGOMATRICULAPROPIO_Si  \\\n",
              "ID                                                                 \n",
              "904256                            1                            0   \n",
              "645256                            1                            0   \n",
              "308367                            1                            0   \n",
              "470353                            1                            0   \n",
              "989032                            1                            0   \n",
              "\n",
              "        RENDIMIENTO_GLOBAL_alto  RENDIMIENTO_GLOBAL_bajo  \\\n",
              "ID                                                         \n",
              "904256                        0                        0   \n",
              "645256                        0                        1   \n",
              "308367                        0                        1   \n",
              "470353                        1                        0   \n",
              "989032                        0                        0   \n",
              "\n",
              "        RENDIMIENTO_GLOBAL_medio-alto  RENDIMIENTO_GLOBAL_medio-bajo  \n",
              "ID                                                                    \n",
              "904256                              1                              0  \n",
              "645256                              0                              0  \n",
              "308367                              0                              0  \n",
              "470353                              0                              0  \n",
              "989032                              0                              1  \n",
              "\n",
              "[5 rows x 163 columns]"
            ],
            "text/html": [
              "\n",
              "  <div id=\"df-63cca3fa-3a7e-443a-8dee-7193557073d8\" class=\"colab-df-container\">\n",
              "    <div>\n",
              "<style scoped>\n",
              "    .dataframe tbody tr th:only-of-type {\n",
              "        vertical-align: middle;\n",
              "    }\n",
              "\n",
              "    .dataframe tbody tr th {\n",
              "        vertical-align: top;\n",
              "    }\n",
              "\n",
              "    .dataframe thead th {\n",
              "        text-align: right;\n",
              "    }\n",
              "</style>\n",
              "<table border=\"1\" class=\"dataframe\">\n",
              "  <thead>\n",
              "    <tr style=\"text-align: right;\">\n",
              "      <th></th>\n",
              "      <th>PERIODO</th>\n",
              "      <th>ESTU_PRGM_ACADEMICO_ADMINISTRACION Y NEGOCIOS</th>\n",
              "      <th>ESTU_PRGM_ACADEMICO_AGRONOMIA Y VETERINARIA</th>\n",
              "      <th>ESTU_PRGM_ACADEMICO_ANIMACION</th>\n",
              "      <th>ESTU_PRGM_ACADEMICO_ARCHIVISTICA</th>\n",
              "      <th>ESTU_PRGM_ACADEMICO_ARQUEOLOGIA</th>\n",
              "      <th>ESTU_PRGM_ACADEMICO_ARQUITECTURA Y CONSTRUCCION</th>\n",
              "      <th>ESTU_PRGM_ACADEMICO_ARTE</th>\n",
              "      <th>ESTU_PRGM_ACADEMICO_ARTE DRAMATICO</th>\n",
              "      <th>ESTU_PRGM_ACADEMICO_ARTES Y COMUNICACION</th>\n",
              "      <th>...</th>\n",
              "      <th>FAMI_EDUCACIONMADRE_Secundaria (Bachillerato) completa</th>\n",
              "      <th>FAMI_EDUCACIONMADRE_Secundaria (Bachillerato) incompleta</th>\n",
              "      <th>FAMI_EDUCACIONMADRE_Técnica o tecnológica completa</th>\n",
              "      <th>FAMI_EDUCACIONMADRE_Técnica o tecnológica incompleta</th>\n",
              "      <th>ESTU_PAGOMATRICULAPROPIO_No</th>\n",
              "      <th>ESTU_PAGOMATRICULAPROPIO_Si</th>\n",
              "      <th>RENDIMIENTO_GLOBAL_alto</th>\n",
              "      <th>RENDIMIENTO_GLOBAL_bajo</th>\n",
              "      <th>RENDIMIENTO_GLOBAL_medio-alto</th>\n",
              "      <th>RENDIMIENTO_GLOBAL_medio-bajo</th>\n",
              "    </tr>\n",
              "    <tr>\n",
              "      <th>ID</th>\n",
              "      <th></th>\n",
              "      <th></th>\n",
              "      <th></th>\n",
              "      <th></th>\n",
              "      <th></th>\n",
              "      <th></th>\n",
              "      <th></th>\n",
              "      <th></th>\n",
              "      <th></th>\n",
              "      <th></th>\n",
              "      <th></th>\n",
              "      <th></th>\n",
              "      <th></th>\n",
              "      <th></th>\n",
              "      <th></th>\n",
              "      <th></th>\n",
              "      <th></th>\n",
              "      <th></th>\n",
              "      <th></th>\n",
              "      <th></th>\n",
              "      <th></th>\n",
              "    </tr>\n",
              "  </thead>\n",
              "  <tbody>\n",
              "    <tr>\n",
              "      <th>904256</th>\n",
              "      <td>20212</td>\n",
              "      <td>0</td>\n",
              "      <td>0</td>\n",
              "      <td>0</td>\n",
              "      <td>0</td>\n",
              "      <td>0</td>\n",
              "      <td>0</td>\n",
              "      <td>0</td>\n",
              "      <td>0</td>\n",
              "      <td>0</td>\n",
              "      <td>...</td>\n",
              "      <td>0</td>\n",
              "      <td>0</td>\n",
              "      <td>0</td>\n",
              "      <td>0</td>\n",
              "      <td>1</td>\n",
              "      <td>0</td>\n",
              "      <td>0</td>\n",
              "      <td>0</td>\n",
              "      <td>1</td>\n",
              "      <td>0</td>\n",
              "    </tr>\n",
              "    <tr>\n",
              "      <th>645256</th>\n",
              "      <td>20212</td>\n",
              "      <td>0</td>\n",
              "      <td>0</td>\n",
              "      <td>0</td>\n",
              "      <td>0</td>\n",
              "      <td>0</td>\n",
              "      <td>0</td>\n",
              "      <td>0</td>\n",
              "      <td>0</td>\n",
              "      <td>0</td>\n",
              "      <td>...</td>\n",
              "      <td>0</td>\n",
              "      <td>0</td>\n",
              "      <td>0</td>\n",
              "      <td>1</td>\n",
              "      <td>1</td>\n",
              "      <td>0</td>\n",
              "      <td>0</td>\n",
              "      <td>1</td>\n",
              "      <td>0</td>\n",
              "      <td>0</td>\n",
              "    </tr>\n",
              "    <tr>\n",
              "      <th>308367</th>\n",
              "      <td>20203</td>\n",
              "      <td>1</td>\n",
              "      <td>0</td>\n",
              "      <td>0</td>\n",
              "      <td>0</td>\n",
              "      <td>0</td>\n",
              "      <td>0</td>\n",
              "      <td>0</td>\n",
              "      <td>0</td>\n",
              "      <td>0</td>\n",
              "      <td>...</td>\n",
              "      <td>1</td>\n",
              "      <td>0</td>\n",
              "      <td>0</td>\n",
              "      <td>0</td>\n",
              "      <td>1</td>\n",
              "      <td>0</td>\n",
              "      <td>0</td>\n",
              "      <td>1</td>\n",
              "      <td>0</td>\n",
              "      <td>0</td>\n",
              "    </tr>\n",
              "    <tr>\n",
              "      <th>470353</th>\n",
              "      <td>20195</td>\n",
              "      <td>1</td>\n",
              "      <td>0</td>\n",
              "      <td>0</td>\n",
              "      <td>0</td>\n",
              "      <td>0</td>\n",
              "      <td>0</td>\n",
              "      <td>0</td>\n",
              "      <td>0</td>\n",
              "      <td>0</td>\n",
              "      <td>...</td>\n",
              "      <td>1</td>\n",
              "      <td>0</td>\n",
              "      <td>0</td>\n",
              "      <td>0</td>\n",
              "      <td>1</td>\n",
              "      <td>0</td>\n",
              "      <td>1</td>\n",
              "      <td>0</td>\n",
              "      <td>0</td>\n",
              "      <td>0</td>\n",
              "    </tr>\n",
              "    <tr>\n",
              "      <th>989032</th>\n",
              "      <td>20212</td>\n",
              "      <td>0</td>\n",
              "      <td>0</td>\n",
              "      <td>0</td>\n",
              "      <td>0</td>\n",
              "      <td>0</td>\n",
              "      <td>0</td>\n",
              "      <td>0</td>\n",
              "      <td>0</td>\n",
              "      <td>0</td>\n",
              "      <td>...</td>\n",
              "      <td>0</td>\n",
              "      <td>0</td>\n",
              "      <td>0</td>\n",
              "      <td>0</td>\n",
              "      <td>1</td>\n",
              "      <td>0</td>\n",
              "      <td>0</td>\n",
              "      <td>0</td>\n",
              "      <td>0</td>\n",
              "      <td>1</td>\n",
              "    </tr>\n",
              "  </tbody>\n",
              "</table>\n",
              "<p>5 rows × 163 columns</p>\n",
              "</div>\n",
              "    <div class=\"colab-df-buttons\">\n",
              "\n",
              "  <div class=\"colab-df-container\">\n",
              "    <button class=\"colab-df-convert\" onclick=\"convertToInteractive('df-63cca3fa-3a7e-443a-8dee-7193557073d8')\"\n",
              "            title=\"Convert this dataframe to an interactive table.\"\n",
              "            style=\"display:none;\">\n",
              "\n",
              "  <svg xmlns=\"http://www.w3.org/2000/svg\" height=\"24px\" viewBox=\"0 -960 960 960\">\n",
              "    <path d=\"M120-120v-720h720v720H120Zm60-500h600v-160H180v160Zm220 220h160v-160H400v160Zm0 220h160v-160H400v160ZM180-400h160v-160H180v160Zm440 0h160v-160H620v160ZM180-180h160v-160H180v160Zm440 0h160v-160H620v160Z\"/>\n",
              "  </svg>\n",
              "    </button>\n",
              "\n",
              "  <style>\n",
              "    .colab-df-container {\n",
              "      display:flex;\n",
              "      gap: 12px;\n",
              "    }\n",
              "\n",
              "    .colab-df-convert {\n",
              "      background-color: #E8F0FE;\n",
              "      border: none;\n",
              "      border-radius: 50%;\n",
              "      cursor: pointer;\n",
              "      display: none;\n",
              "      fill: #1967D2;\n",
              "      height: 32px;\n",
              "      padding: 0 0 0 0;\n",
              "      width: 32px;\n",
              "    }\n",
              "\n",
              "    .colab-df-convert:hover {\n",
              "      background-color: #E2EBFA;\n",
              "      box-shadow: 0px 1px 2px rgba(60, 64, 67, 0.3), 0px 1px 3px 1px rgba(60, 64, 67, 0.15);\n",
              "      fill: #174EA6;\n",
              "    }\n",
              "\n",
              "    .colab-df-buttons div {\n",
              "      margin-bottom: 4px;\n",
              "    }\n",
              "\n",
              "    [theme=dark] .colab-df-convert {\n",
              "      background-color: #3B4455;\n",
              "      fill: #D2E3FC;\n",
              "    }\n",
              "\n",
              "    [theme=dark] .colab-df-convert:hover {\n",
              "      background-color: #434B5C;\n",
              "      box-shadow: 0px 1px 3px 1px rgba(0, 0, 0, 0.15);\n",
              "      filter: drop-shadow(0px 1px 2px rgba(0, 0, 0, 0.3));\n",
              "      fill: #FFFFFF;\n",
              "    }\n",
              "  </style>\n",
              "\n",
              "    <script>\n",
              "      const buttonEl =\n",
              "        document.querySelector('#df-63cca3fa-3a7e-443a-8dee-7193557073d8 button.colab-df-convert');\n",
              "      buttonEl.style.display =\n",
              "        google.colab.kernel.accessAllowed ? 'block' : 'none';\n",
              "\n",
              "      async function convertToInteractive(key) {\n",
              "        const element = document.querySelector('#df-63cca3fa-3a7e-443a-8dee-7193557073d8');\n",
              "        const dataTable =\n",
              "          await google.colab.kernel.invokeFunction('convertToInteractive',\n",
              "                                                    [key], {});\n",
              "        if (!dataTable) return;\n",
              "\n",
              "        const docLinkHtml = 'Like what you see? Visit the ' +\n",
              "          '<a target=\"_blank\" href=https://colab.research.google.com/notebooks/data_table.ipynb>data table notebook</a>'\n",
              "          + ' to learn more about interactive tables.';\n",
              "        element.innerHTML = '';\n",
              "        dataTable['output_type'] = 'display_data';\n",
              "        await google.colab.output.renderOutput(dataTable, element);\n",
              "        const docLink = document.createElement('div');\n",
              "        docLink.innerHTML = docLinkHtml;\n",
              "        element.appendChild(docLink);\n",
              "      }\n",
              "    </script>\n",
              "  </div>\n",
              "\n",
              "\n",
              "<div id=\"df-d81cfef5-7431-4bb2-8b6b-cf51c7e6a3b7\">\n",
              "  <button class=\"colab-df-quickchart\" onclick=\"quickchart('df-d81cfef5-7431-4bb2-8b6b-cf51c7e6a3b7')\"\n",
              "            title=\"Suggest charts\"\n",
              "            style=\"display:none;\">\n",
              "\n",
              "<svg xmlns=\"http://www.w3.org/2000/svg\" height=\"24px\"viewBox=\"0 0 24 24\"\n",
              "     width=\"24px\">\n",
              "    <g>\n",
              "        <path d=\"M19 3H5c-1.1 0-2 .9-2 2v14c0 1.1.9 2 2 2h14c1.1 0 2-.9 2-2V5c0-1.1-.9-2-2-2zM9 17H7v-7h2v7zm4 0h-2V7h2v10zm4 0h-2v-4h2v4z\"/>\n",
              "    </g>\n",
              "</svg>\n",
              "  </button>\n",
              "\n",
              "<style>\n",
              "  .colab-df-quickchart {\n",
              "      --bg-color: #E8F0FE;\n",
              "      --fill-color: #1967D2;\n",
              "      --hover-bg-color: #E2EBFA;\n",
              "      --hover-fill-color: #174EA6;\n",
              "      --disabled-fill-color: #AAA;\n",
              "      --disabled-bg-color: #DDD;\n",
              "  }\n",
              "\n",
              "  [theme=dark] .colab-df-quickchart {\n",
              "      --bg-color: #3B4455;\n",
              "      --fill-color: #D2E3FC;\n",
              "      --hover-bg-color: #434B5C;\n",
              "      --hover-fill-color: #FFFFFF;\n",
              "      --disabled-bg-color: #3B4455;\n",
              "      --disabled-fill-color: #666;\n",
              "  }\n",
              "\n",
              "  .colab-df-quickchart {\n",
              "    background-color: var(--bg-color);\n",
              "    border: none;\n",
              "    border-radius: 50%;\n",
              "    cursor: pointer;\n",
              "    display: none;\n",
              "    fill: var(--fill-color);\n",
              "    height: 32px;\n",
              "    padding: 0;\n",
              "    width: 32px;\n",
              "  }\n",
              "\n",
              "  .colab-df-quickchart:hover {\n",
              "    background-color: var(--hover-bg-color);\n",
              "    box-shadow: 0 1px 2px rgba(60, 64, 67, 0.3), 0 1px 3px 1px rgba(60, 64, 67, 0.15);\n",
              "    fill: var(--button-hover-fill-color);\n",
              "  }\n",
              "\n",
              "  .colab-df-quickchart-complete:disabled,\n",
              "  .colab-df-quickchart-complete:disabled:hover {\n",
              "    background-color: var(--disabled-bg-color);\n",
              "    fill: var(--disabled-fill-color);\n",
              "    box-shadow: none;\n",
              "  }\n",
              "\n",
              "  .colab-df-spinner {\n",
              "    border: 2px solid var(--fill-color);\n",
              "    border-color: transparent;\n",
              "    border-bottom-color: var(--fill-color);\n",
              "    animation:\n",
              "      spin 1s steps(1) infinite;\n",
              "  }\n",
              "\n",
              "  @keyframes spin {\n",
              "    0% {\n",
              "      border-color: transparent;\n",
              "      border-bottom-color: var(--fill-color);\n",
              "      border-left-color: var(--fill-color);\n",
              "    }\n",
              "    20% {\n",
              "      border-color: transparent;\n",
              "      border-left-color: var(--fill-color);\n",
              "      border-top-color: var(--fill-color);\n",
              "    }\n",
              "    30% {\n",
              "      border-color: transparent;\n",
              "      border-left-color: var(--fill-color);\n",
              "      border-top-color: var(--fill-color);\n",
              "      border-right-color: var(--fill-color);\n",
              "    }\n",
              "    40% {\n",
              "      border-color: transparent;\n",
              "      border-right-color: var(--fill-color);\n",
              "      border-top-color: var(--fill-color);\n",
              "    }\n",
              "    60% {\n",
              "      border-color: transparent;\n",
              "      border-right-color: var(--fill-color);\n",
              "    }\n",
              "    80% {\n",
              "      border-color: transparent;\n",
              "      border-right-color: var(--fill-color);\n",
              "      border-bottom-color: var(--fill-color);\n",
              "    }\n",
              "    90% {\n",
              "      border-color: transparent;\n",
              "      border-bottom-color: var(--fill-color);\n",
              "    }\n",
              "  }\n",
              "</style>\n",
              "\n",
              "  <script>\n",
              "    async function quickchart(key) {\n",
              "      const quickchartButtonEl =\n",
              "        document.querySelector('#' + key + ' button');\n",
              "      quickchartButtonEl.disabled = true;  // To prevent multiple clicks.\n",
              "      quickchartButtonEl.classList.add('colab-df-spinner');\n",
              "      try {\n",
              "        const charts = await google.colab.kernel.invokeFunction(\n",
              "            'suggestCharts', [key], {});\n",
              "      } catch (error) {\n",
              "        console.error('Error during call to suggestCharts:', error);\n",
              "      }\n",
              "      quickchartButtonEl.classList.remove('colab-df-spinner');\n",
              "      quickchartButtonEl.classList.add('colab-df-quickchart-complete');\n",
              "    }\n",
              "    (() => {\n",
              "      let quickchartButtonEl =\n",
              "        document.querySelector('#df-d81cfef5-7431-4bb2-8b6b-cf51c7e6a3b7 button');\n",
              "      quickchartButtonEl.style.display =\n",
              "        google.colab.kernel.accessAllowed ? 'block' : 'none';\n",
              "    })();\n",
              "  </script>\n",
              "</div>\n",
              "\n",
              "    </div>\n",
              "  </div>\n"
            ],
            "application/vnd.google.colaboratory.intrinsic+json": {
              "type": "dataframe",
              "variable_name": "z"
            }
          },
          "metadata": {},
          "execution_count": 218
        }
      ]
    },
    {
      "cell_type": "code",
      "source": [
        "z.isnull().sum()"
      ],
      "metadata": {
        "colab": {
          "base_uri": "https://localhost:8080/",
          "height": 458
        },
        "id": "WmjVPj_WdH9L",
        "outputId": "f31f9ce7-45e9-456a-cdb4-8019fa3a431d"
      },
      "execution_count": null,
      "outputs": [
        {
          "output_type": "execute_result",
          "data": {
            "text/plain": [
              "PERIODO                                          0\n",
              "ESTU_PRGM_ACADEMICO_ADMINISTRACION Y NEGOCIOS    0\n",
              "ESTU_PRGM_ACADEMICO_AGRONOMIA Y VETERINARIA      0\n",
              "ESTU_PRGM_ACADEMICO_ANIMACION                    0\n",
              "ESTU_PRGM_ACADEMICO_ARCHIVISTICA                 0\n",
              "                                                ..\n",
              "ESTU_PAGOMATRICULAPROPIO_Si                      0\n",
              "RENDIMIENTO_GLOBAL_alto                          0\n",
              "RENDIMIENTO_GLOBAL_bajo                          0\n",
              "RENDIMIENTO_GLOBAL_medio-alto                    0\n",
              "RENDIMIENTO_GLOBAL_medio-bajo                    0\n",
              "Length: 163, dtype: int64"
            ],
            "text/html": [
              "<div>\n",
              "<style scoped>\n",
              "    .dataframe tbody tr th:only-of-type {\n",
              "        vertical-align: middle;\n",
              "    }\n",
              "\n",
              "    .dataframe tbody tr th {\n",
              "        vertical-align: top;\n",
              "    }\n",
              "\n",
              "    .dataframe thead th {\n",
              "        text-align: right;\n",
              "    }\n",
              "</style>\n",
              "<table border=\"1\" class=\"dataframe\">\n",
              "  <thead>\n",
              "    <tr style=\"text-align: right;\">\n",
              "      <th></th>\n",
              "      <th>0</th>\n",
              "    </tr>\n",
              "  </thead>\n",
              "  <tbody>\n",
              "    <tr>\n",
              "      <th>PERIODO</th>\n",
              "      <td>0</td>\n",
              "    </tr>\n",
              "    <tr>\n",
              "      <th>ESTU_PRGM_ACADEMICO_ADMINISTRACION Y NEGOCIOS</th>\n",
              "      <td>0</td>\n",
              "    </tr>\n",
              "    <tr>\n",
              "      <th>ESTU_PRGM_ACADEMICO_AGRONOMIA Y VETERINARIA</th>\n",
              "      <td>0</td>\n",
              "    </tr>\n",
              "    <tr>\n",
              "      <th>ESTU_PRGM_ACADEMICO_ANIMACION</th>\n",
              "      <td>0</td>\n",
              "    </tr>\n",
              "    <tr>\n",
              "      <th>ESTU_PRGM_ACADEMICO_ARCHIVISTICA</th>\n",
              "      <td>0</td>\n",
              "    </tr>\n",
              "    <tr>\n",
              "      <th>...</th>\n",
              "      <td>...</td>\n",
              "    </tr>\n",
              "    <tr>\n",
              "      <th>ESTU_PAGOMATRICULAPROPIO_Si</th>\n",
              "      <td>0</td>\n",
              "    </tr>\n",
              "    <tr>\n",
              "      <th>RENDIMIENTO_GLOBAL_alto</th>\n",
              "      <td>0</td>\n",
              "    </tr>\n",
              "    <tr>\n",
              "      <th>RENDIMIENTO_GLOBAL_bajo</th>\n",
              "      <td>0</td>\n",
              "    </tr>\n",
              "    <tr>\n",
              "      <th>RENDIMIENTO_GLOBAL_medio-alto</th>\n",
              "      <td>0</td>\n",
              "    </tr>\n",
              "    <tr>\n",
              "      <th>RENDIMIENTO_GLOBAL_medio-bajo</th>\n",
              "      <td>0</td>\n",
              "    </tr>\n",
              "  </tbody>\n",
              "</table>\n",
              "<p>163 rows × 1 columns</p>\n",
              "</div><br><label><b>dtype:</b> int64</label>"
            ]
          },
          "metadata": {},
          "execution_count": 219
        }
      ]
    },
    {
      "cell_type": "markdown",
      "source": [
        "guarda el DataFrame z en un archivo CSV llamado 'z.csv'"
      ],
      "metadata": {
        "id": "EYEZWdYy1dub"
      }
    },
    {
      "cell_type": "code",
      "source": [
        "z.to_csv('z.csv', index=False)"
      ],
      "metadata": {
        "id": "o8RwtqCnLaNe"
      },
      "execution_count": null,
      "outputs": []
    }
  ],
  "metadata": {
    "colab": {
      "provenance": []
    },
    "kernelspec": {
      "display_name": "Python 3",
      "name": "python3"
    },
    "language_info": {
      "name": "python"
    }
  },
  "nbformat": 4,
  "nbformat_minor": 0
}